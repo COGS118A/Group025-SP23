{
  "cells": [
    {
      "cell_type": "markdown",
      "metadata": {
        "id": "Nb2DL-Njp0xa"
      },
      "source": [
        "# COGS 118A- Project Proposal"
      ]
    },
    {
      "cell_type": "markdown",
      "metadata": {
        "id": "RGK-0RAYp0xc"
      },
      "source": [
        "# Names\n",
        "\n",
        "\n",
        "- Belinda Yan\n",
        "- Jennifer Wong\n",
        "- Nick Schaefer\n",
        "- Hiba Shaikh"
      ]
    },
    {
      "cell_type": "markdown",
      "metadata": {
        "id": "jWsJCVltp0xc"
      },
      "source": [
        "# Abstract \n",
        "\n",
        "\n",
        "Our goal is to accurately train a classifier to be able to detect fetal health problems early on in order to decrease current rates of child mortality. To accomplish this, we will be using cardiotocogram data, which are measurements taken from the fetus during pregnancy and labour like Fetal Heart Rate (FHR) and number of uterine contractions per second, among many other fetal condition measurements. With this data, we will train K Nearest Neighbors (KNN) and decision tree classifiers in order to recognize when a fetus health is normal, suspect, or pathological. We then will assess and select the best model so that we will be able to provide an accurate and reliable tool meant to aid in identifying and treating fetal health problems as early as possible. In order to quantify what our best model is, we will split our data into train and tests sets where the model will train with our training data and then be evaluated with our testing data. We then will use zero-one loss to judge the model's performance, which is the average number of errors across the test performances of each model, and then pick the one with the smallest average error.\n",
        "\n"
      ]
    },
    {
      "cell_type": "markdown",
      "metadata": {
        "id": "06-7cHZGp0xc"
      },
      "source": [
        "# Background\n",
        "\n",
        "\n",
        "\n",
        "Fetal mortality is classified as the death of a fetus prior to delivery. Although it is a very prevalent issue, it is often overlooked as the public tends to focus more on infant mortality due to lack of sufficient knowledge about what causes fetal mortality and how to prevent it. Most of the data collected on fetal deaths are of the deaths that occur at 20 weeks of gestation or more and very little data is collected about deaths prior to that time. Even with the collected data, there is a lot of variation among the completeness of the data as well as the method of reporting it. According to the Center for Disease and Control (CDC), 20,854 fetal deaths that happened at 20 weeks of gestation or more were reported in the U.S. in 2020 and the fetal mortality rate for 2020 was 5.74 deaths per 1,000 live births<a name=\"Gregory\"></a>[<sup>[1]</sup>](#Gregorynote). Although a significant proportion of fetal deaths cannot be connected to a singular cause, many studies have shown that some factors that may contribute to fetal deaths include lack of access to assistance in labor and delivery, maternal conditions or complications, infections, and birth injuries, among many others. One solution for these problems could be increasing access to emergency obstetric care and access to skilled labor and delivery so that fetal deaths can be kept at a minimum <a name=\"JR\"></a>[<sup>[2]</sup>](#JRnote). Minimizing fetal health is important as it pertains to population health as a whole and can ultimately aid us in addressing and solving a variety of problems related to healthcare and access to such services beginning with infant and fetal care <a name=\"Washington State Department of Health\"></a>[<sup>[3]</sup>](#Washingtonnote). "
      ]
    },
    {
      "cell_type": "markdown",
      "metadata": {
        "id": "DpCA1DWUp0xc"
      },
      "source": [
        "# Problem Statement\n",
        "\n",
        "\n",
        "Question: Can our model accurately predict fetus mortality 80% of the time?\n",
        "\n",
        "Several of the United Nations' Sustainable Development Goals speak on decreasing the number of preventable deaths of newborns and children under 5 years of age. Currently, a vast majority of child and maternal mortality (94%) occur in low-resource settings in which most could have been prevented.\n",
        "\n",
        "The use of Cardiotocograms (CTGs), a simple and cost accessible option, can help assess fetal health. In turn, healthcare professionals can take actions to prevent child and maternal mortality earlier.\n",
        "\n",
        "Therefore the binary classification problem we are trying to solve is determining whether a fetus is healthy or not based on the different features in the dataset. Our goal is to use ML techniques and data from CTGs, in order to create models that accurately predict fetal health up to 80% of the time.\n",
        "\n",
        "\n"
      ]
    },
    {
      "cell_type": "markdown",
      "metadata": {
        "id": "tnhtyig3p0xd"
      },
      "source": [
        "# Data\n",
        "\n",
        "You should have a strong idea of what dataset(s) will be used to accomplish this project. \n",
        "\n",
        "If you know what (some) of the data you will use, please give the following information for each dataset:\n",
        "- link/reference to obtain it\n",
        "- description of the size of the dataset (# of variables, # of observations)\n",
        "- what an observation consists of\n",
        "- what some critical variables are, how they are represented\n",
        "- any special handling, transformations, cleaning, etc will be needed\n",
        "\n",
        "If you don't yet know what your dataset(s) will be, you should describe what you desire in terms of the above bullets.\n",
        "\n",
        "**Link to dataset:**\n",
        "https://www.kaggle.com/datasets/andrewmvd/fetal-health-classification\n",
        "\n",
        "**Dataset size:** Our dataset has 22 variables and 2126 observations.\n",
        "\n",
        "**Description of an observation:** An observation consists of health information for a fetal. The information includes the the following:\n",
        "- baseline fetal heart rate\n",
        "- number of heart rate accelerations per second\n",
        "- number of fetal movements per second\n",
        "- number of uterine contractions per second of mother\n",
        "- number of light decelerations per second\n",
        "- number of severe decelerations per second\n",
        "- number of prolonged decelerations per second\n",
        "- percentage of time with abnormal short term variability\n",
        "- mean value of short term variability\n",
        "- percentage of time with abnormal long term variability\n",
        "- mean value of long term variability\n",
        "- width of histogram made (using all values recorded)\n",
        "- histogram minimum value (using all values recorded)\n",
        "- histogram maximum value (using all values recorded)\n",
        "- number of peaks in exam histogram (using all values recorded)\n",
        "- number of zeroes (using all values recorded)\n",
        "- histogram mode (using all values recorded)\n",
        "- histogram mean (using all values recorded)\n",
        "- histogram median (using all values recorded)\n",
        "- histogram variance (using all values recorded)\n",
        "- histogram trend (using all values recorded)\n",
        "- fetal health (categorized as normal, suspect, or pathological)\n",
        "\n",
        "*Note: Decelerations are temporary but distinct decreases of fetal heart rate.*\n",
        "\n",
        "**Critical variables:** Some critical variables are listed below. These variables will be critical in our classifcation problem.\n",
        "- baseline fetal heart rate\n",
        "  - represented as integers\n",
        "- number of heart rate accelerations per second\n",
        "  - represented as floats\n",
        "- number of fetal movements per second\n",
        "  - represented as floats\n",
        "- number of uterine contractions per second of mother\n",
        "  - represented as floats\n",
        "- number of light decelerations per second\n",
        "  - represented as floats\n",
        "- number of severe decelerations per second\n",
        "  - represented as floats\n",
        "- number of prolonged decelerations per second\n",
        "  - represented as floats\n",
        "- percentage of time with abnormal short term variability\n",
        "  - represented as floats\n",
        "- mean value of short term variability\n",
        "  - represented as floats\n",
        "- percentage of time with abnormal long term variability\n",
        "  - represented as floats\n",
        "- mean value of long term variability\n",
        "  - represented as floats\n",
        "- fetal health\n",
        "  - represented as integers 1, 2, or 3 (1 - normal, 2 - suspect, 3 - pathological)\n",
        "\n",
        "**Transformations & Cleaning:** In order to keep only the variables we want to use for classification, we might drop the columns related to the histogram of all values recorded. Since `fetal_health` is a critical variable in our classification and is ordinal, we will use one-hot encoding to transform the values to 0s and 1s. In addition, we will normalize the values for all variables to scale our data.\n",
        "\n"
      ]
    },
    {
      "cell_type": "markdown",
      "metadata": {
        "id": "ecUihTySp0xd"
      },
      "source": [
        "# Proposed Solution\n",
        "\n",
        "\n",
        "\n",
        "The solution to our problem of determining which features are most important in determining a fetus' health and classifying it as healthy or not is using different classification models and then determine which is the most accurate. We plan on training our model by using K Nearest Neighbors and then again with decision tree classifiers to classify between healthy and unhealthy fetuses. Then we plan on using nested cross validation to determine the best model and the best parameters for that model. \n",
        "\n",
        "\n",
        "\n",
        "\n"
      ]
    },
    {
      "cell_type": "markdown",
      "metadata": {
        "id": "gb_2nJ_jp0xd"
      },
      "source": [
        "# Evaluation Metrics\n",
        "\n",
        "\n",
        "We plan our evaluating our model using the following methods: \n",
        "\n",
        "* The accuracy of the model - test using zero-one loss\n",
        "* Precision - proportion of correct postive instances\n",
        "* Recall - true positive rate, as false negatives can be detrimental to fetal health and treatment plan\n",
        "* F1 score - mean of precision and recall, gives a more balanced measure\n",
        "\n",
        "We believe these metrics will help us evaluate our model in order to determine whether it will be accurate at predicting the fetus' health.\n"
      ]
    },
    {
      "cell_type": "markdown",
      "metadata": {
        "id": "5ckwrr3Np0xd"
      },
      "source": [
        "# Ethics & Privacy"
      ]
    },
    {
      "cell_type": "markdown",
      "metadata": {
        "id": "6aS2AgIUp0xd"
      },
      "source": [
        "\n",
        "Some ethics and privacy issues we must consider when working on this topic include:\n",
        "- The data is collected with informed consent from the pregnant individuals as well as healthcare providers\n",
        "- Confidentiality of the individuals must be maintained\n",
        "- Bias and Fairness must be considered for the collection and use of data, especially related to demographic bias\n",
        "- Benefit and Risk Assessment: we must consider the potential postive effect on fetal health, but also need to evaluate the risks of things like misclassification\n"
      ]
    },
    {
      "cell_type": "markdown",
      "metadata": {
        "id": "VQzejGzWp0xd"
      },
      "source": [
        "# Team Expectations "
      ]
    },
    {
      "cell_type": "markdown",
      "metadata": {
        "id": "EcdoSd7jp0xd"
      },
      "source": [
        "Our Team Expectations are: \n",
        "\n",
        "* Consider everyone's opinion equally when making decisions on the project\n",
        "* Communicate clearly and frequently\n",
        "* Let eachother know about any issues going on\n",
        "* If you're struggling with your assigned portion, let us know you need help\n",
        "* Address conflicts constructively and respectfully. If they persist, we can consult class staff as needed\n",
        "* Distribute the workload equally and fairly among team members\n",
        "* Be accountable and responsible for your assigned tasks.\n",
        "* Set goals for the project and work to complete them on time"
      ]
    },
    {
      "cell_type": "markdown",
      "metadata": {
        "id": "iLxdK6aSp0xe"
      },
      "source": [
        "# Project Timeline Proposal"
      ]
    },
    {
      "cell_type": "markdown",
      "metadata": {
        "id": "0xBX4XDCp0xe"
      },
      "source": [
        "Replace this with something meaningful that is appropriate for your needs. It doesn't have to be something that fits this format.  It doesn't have to be set in stone... \"no battle plan survives contact with the enemy\". But you need a battle plan nonetheless, and you need to keep it updated so you understand what you are trying to accomplish, who's responsible for what, and what the expected due dates are for each item.\n",
        "\n",
        "| Meeting Date  | Meeting Time| Completed Before Meeting  | Discuss at Meeting |\n",
        "|---|---|---|---|\n",
        "| 5/15  |  4 PM |  Brainstorm topics/questions (all)  | Outline communication; Discuss and decide on final project topic; discuss hypothesis; begin background research | \n",
        "| 5/22  |  4 PM |  Fine tune project details and goal  | Begin model selection process | \n",
        "| 5/29  | 4 PM  | Run nested cross-validation and find model   | Begin training model|\n",
        "| 6/5  | 4 PM  | finish training model  | Begin testing model on evaluation metrics and how it generalizes   |\n",
        "| 6/14  | Before 7:59 PM  | NA | Turn in Final Project  |\n",
        "\n",
        "\n",
        "| Deadline  | Due date|\n",
        "|---|---|\n",
        "| Proposal  |  5/17 8 PM |  \n",
        "| Peer review of proposals  |  5/24 8 PM |  \n",
        "| Checkpoint  |  5/31 8 PM |  \n",
        "| Final project  |  6/14 8 PM |  "
      ]
    },
    {
      "cell_type": "markdown",
      "metadata": {
        "id": "F4WZje11p0xe"
      },
      "source": [
        "# Footnotes\n",
        "<a name=\"Gregory\"></a>1.[^](#Gregorynote): Gregory, C.W. Elizabeth. (4 Aug 2022). Fetal Mortality: United States, 2020. *CDC*. https://www.cdc.gov/nchs/data/nvsr/nvsr71/nvsr71-04.pdf<br> \n",
        "<a name=\"JR\"></a>2.[^](#JRnote): JR Bale. (2003). Improving Birth Outcomes: Meeting the Challenge in the Developing World. *National Library of Medicine*. https://www.ncbi.nlm.nih.gov/books/NBK222084/<br>\n",
        "\n",
        "<a name=\"Washington State Department of Health\"></a>3.[^](#Washingtonnote): Washington State Department of Health. Fetal and Infant Death Data. *Washington State Department of Health*. https://doh.wa.gov/data-and-statistical-reports/washington-tracking-network-wtn/fetal-and-infant-death-data <br>"
      ]
    }
  ],
  "metadata": {
    "kernelspec": {
      "display_name": "Python 3",
      "language": "python",
      "name": "python3"
    },
    "language_info": {
      "codemirror_mode": {
        "name": "ipython",
        "version": 3
      },
      "file_extension": ".py",
      "mimetype": "text/x-python",
      "name": "python",
      "nbconvert_exporter": "python",
      "pygments_lexer": "ipython3",
      "version": "3.8.8"
    },
    "colab": {
      "provenance": []
    }
  },
  "nbformat": 4,
  "nbformat_minor": 0
}
