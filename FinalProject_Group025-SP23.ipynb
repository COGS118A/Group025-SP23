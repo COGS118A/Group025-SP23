{
  "cells": [
    {
      "cell_type": "markdown",
      "metadata": {
        "id": "Nb2DL-Njp0xa"
      },
      "source": [
        "# Fetal Health Classification"
      ]
    },
    {
      "cell_type": "markdown",
      "metadata": {
        "id": "RGK-0RAYp0xc"
      },
      "source": [
        "# Names\n",
        "\n",
        "\n",
        "- Belinda Yan\n",
        "- Jennifer Wong\n",
        "- Nick Schaefer\n",
        "- Hiba Shaikh"
      ]
    },
    {
      "cell_type": "markdown",
      "metadata": {
        "id": "jWsJCVltp0xc"
      },
      "source": [
        "# Abstract\n",
        "\n",
        "\n",
        "Our goal is to accurately train a classifier to be able to detect fetal health problems early on in order to decrease current rates of child mortality. To accomplish this, we will be using cardiotocogram data, which are measurements taken from the fetus during pregnancy and labour like Fetal Heart Rate (FHR) and number of uterine contractions per second, among many other fetal condition measurements. With this data, we will train K Nearest Neighbors (KNN) and decision tree classifiers in order to recognize when a fetus health is normal, suspect, or pathological. We then will assess and select the best model so that we will be able to provide an accurate and reliable tool meant to aid in identifying and treating fetal health problems as early as possible. In order to quantify what our best model is, we will split our data into train and tests sets where the model will train with our training data and then be evaluated with our testing data. We then will use zero-one loss to judge the model's performance, which is the average number of errors across the test performances of each model, and then pick the one with the smallest average error.\n",
        "\n"
      ]
    },
    {
      "cell_type": "markdown",
      "metadata": {
        "id": "06-7cHZGp0xc"
      },
      "source": [
        "# Background\n",
        "\n",
        "\n",
        "\n",
        "Fetal mortality is classified as the death of a fetus prior to delivery. Although it is a very prevalent issue, it is often overlooked as the public tends to focus more on infant mortality due to lack of sufficient knowledge about what causes fetal mortality and how to prevent it. Most of the data collected on fetal deaths are of the deaths that occur at 20 weeks of gestation or more and very little data is collected about deaths prior to that time. Even with the collected data, there is a lot of variation among the completeness of the data as well as the method of reporting it. According to the Center for Disease and Control (CDC), 20,854 fetal deaths that happened at 20 weeks of gestation or more were reported in the U.S. in 2020 and the fetal mortality rate for 2020 was 5.74 deaths per 1,000 live births<a name=\"Gregory\"></a>[<sup>[1]</sup>](#Gregorynote). Although a significant proportion of fetal deaths cannot be connected to a singular cause, many studies have shown that some factors that may contribute to fetal deaths include lack of access to assistance in labor and delivery, maternal conditions or complications, infections, and birth injuries, among many others. One solution for these problems could be increasing access to emergency obstetric care and access to skilled labor and delivery so that fetal deaths can be kept at a minimum <a name=\"JR\"></a>[<sup>[2]</sup>](#JRnote). Minimizing fetal health is important as it pertains to population health as a whole and can ultimately aid us in addressing and solving a variety of problems related to healthcare and access to such services beginning with infant and fetal care <a name=\"Washington State Department of Health\"></a>[<sup>[3]</sup>](#Washingtonnote)."
      ]
    },
    {
      "cell_type": "markdown",
      "metadata": {
        "id": "DpCA1DWUp0xc"
      },
      "source": [
        "# Problem Statement\n",
        "\n",
        "\n",
        "Question: Can our model accurately predict fetus mortality 80% of the time?\n",
        "\n",
        "Several of the United Nations' Sustainable Development Goals speak on decreasing the number of preventable deaths of newborns and children under 5 years of age. Currently, a vast majority of child and maternal mortality (94%) occur in low-resource settings in which most could have been prevented.\n",
        "\n",
        "The use of Cardiotocograms (CTGs), a simple and cost accessible option, can help assess fetal health. In turn, healthcare professionals can take actions to prevent child and maternal mortality earlier.\n",
        "\n",
        "Therefore the binary classification problem we are trying to solve is determining whether a fetus is healthy or not based on the different features in the dataset. Our goal is to use ML techniques and data from CTGs, in order to create models that accurately predict fetal health up to 80% of the time.\n",
        "\n",
        "\n"
      ]
    },
    {
      "cell_type": "markdown",
      "metadata": {
        "id": "tnhtyig3p0xd"
      },
      "source": [
        "# Data\n",
        "\n",
        "\n",
        "**Link to dataset:**\n",
        "https://www.kaggle.com/datasets/andrewmvd/fetal-health-classification\n",
        "\n",
        "**Dataset size:** Our dataset has 22 variables and 2126 observations.\n",
        "\n",
        "**Description of an observation:** An observation consists of health information for a fetal. The information includes the the following:\n",
        "- baseline fetal heart rate\n",
        "- number of heart rate accelerations per second\n",
        "- number of fetal movements per second\n",
        "- number of uterine contractions per second of mother\n",
        "- number of light decelerations per second\n",
        "- number of severe decelerations per second\n",
        "- number of prolonged decelerations per second\n",
        "- percentage of time with abnormal short term variability\n",
        "- mean value of short term variability\n",
        "- percentage of time with abnormal long term variability\n",
        "- mean value of long term variability\n",
        "- width of histogram made (using all values recorded)\n",
        "- histogram minimum value (using all values recorded)\n",
        "- histogram maximum value (using all values recorded)\n",
        "- number of peaks in exam histogram (using all values recorded)\n",
        "- number of zeroes (using all values recorded)\n",
        "- histogram mode (using all values recorded)\n",
        "- histogram mean (using all values recorded)\n",
        "- histogram median (using all values recorded)\n",
        "- histogram variance (using all values recorded)\n",
        "- histogram trend (using all values recorded)\n",
        "- fetal health (categorized as normal, suspect, or pathological)\n",
        "\n",
        "*Note: Decelerations are temporary but distinct decreases of fetal heart rate.*\n",
        "\n",
        "**Critical variables:** Some critical variables are listed below. These variables will be critical in our classifcation problem.\n",
        "- baseline fetal heart rate\n",
        "  - represented as integers\n",
        "- number of heart rate accelerations per second\n",
        "  - represented as floats\n",
        "- number of fetal movements per second\n",
        "  - represented as floats\n",
        "- number of uterine contractions per second of mother\n",
        "  - represented as floats\n",
        "- number of light decelerations per second\n",
        "  - represented as floats\n",
        "- number of severe decelerations per second\n",
        "  - represented as floats\n",
        "- number of prolonged decelerations per second\n",
        "  - represented as floats\n",
        "- percentage of time with abnormal short term variability\n",
        "  - represented as floats\n",
        "- mean value of short term variability\n",
        "  - represented as floats\n",
        "- percentage of time with abnormal long term variability\n",
        "  - represented as floats\n",
        "- mean value of long term variability\n",
        "  - represented as floats\n",
        "- fetal health\n",
        "  - represented as integers 1, 2, or 3 (1 - normal, 2 - suspect, 3 - pathological)\n",
        "\n",
        "**Transformations & Cleaning:**\n"
      ]
    },
    {
      "cell_type": "markdown",
      "source": [
        "Setup dataframe with data:"
      ],
      "metadata": {
        "id": "iiiWZsS1OPKG"
      }
    },
    {
      "cell_type": "code",
      "source": [
        "import numpy as np\n",
        "import seaborn as sns\n",
        "import matplotlib.pyplot as plt\n",
        "import pandas as pd\n",
        "from sklearn.model_selection import train_test_split\n",
        "from sklearn.tree import DecisionTreeClassifier\n",
        "from sklearn.neighbors import KNeighborsClassifier"
      ],
      "metadata": {
        "id": "UvqS6WhFKCma"
      },
      "execution_count": null,
      "outputs": []
    },
    {
      "cell_type": "code",
      "source": [
        "\n",
        "df = pd.read_csv('https://raw.githubusercontent.com/COGS118A/Group025-SP23/main/fetal_health.csv')\n",
        "df.head(10)\n"
      ],
      "metadata": {
        "colab": {
          "base_uri": "https://localhost:8080/",
          "height": 474
        },
        "id": "Nmc6iY2NKgfs",
        "outputId": "697c06d7-3a10-4d55-aff0-f2bccebdff3c"
      },
      "execution_count": null,
      "outputs": [
        {
          "output_type": "execute_result",
          "data": {
            "text/plain": [
              "   baseline value  accelerations  fetal_movement  uterine_contractions  \\\n",
              "0           120.0          0.000             0.0                 0.000   \n",
              "1           132.0          0.006             0.0                 0.006   \n",
              "2           133.0          0.003             0.0                 0.008   \n",
              "3           134.0          0.003             0.0                 0.008   \n",
              "4           132.0          0.007             0.0                 0.008   \n",
              "5           134.0          0.001             0.0                 0.010   \n",
              "6           134.0          0.001             0.0                 0.013   \n",
              "7           122.0          0.000             0.0                 0.000   \n",
              "8           122.0          0.000             0.0                 0.002   \n",
              "9           122.0          0.000             0.0                 0.003   \n",
              "\n",
              "   light_decelerations  severe_decelerations  prolongued_decelerations  \\\n",
              "0                0.000                   0.0                     0.000   \n",
              "1                0.003                   0.0                     0.000   \n",
              "2                0.003                   0.0                     0.000   \n",
              "3                0.003                   0.0                     0.000   \n",
              "4                0.000                   0.0                     0.000   \n",
              "5                0.009                   0.0                     0.002   \n",
              "6                0.008                   0.0                     0.003   \n",
              "7                0.000                   0.0                     0.000   \n",
              "8                0.000                   0.0                     0.000   \n",
              "9                0.000                   0.0                     0.000   \n",
              "\n",
              "   abnormal_short_term_variability  mean_value_of_short_term_variability  \\\n",
              "0                             73.0                                   0.5   \n",
              "1                             17.0                                   2.1   \n",
              "2                             16.0                                   2.1   \n",
              "3                             16.0                                   2.4   \n",
              "4                             16.0                                   2.4   \n",
              "5                             26.0                                   5.9   \n",
              "6                             29.0                                   6.3   \n",
              "7                             83.0                                   0.5   \n",
              "8                             84.0                                   0.5   \n",
              "9                             86.0                                   0.3   \n",
              "\n",
              "   percentage_of_time_with_abnormal_long_term_variability  ...  histogram_min  \\\n",
              "0                                               43.0       ...           62.0   \n",
              "1                                                0.0       ...           68.0   \n",
              "2                                                0.0       ...           68.0   \n",
              "3                                                0.0       ...           53.0   \n",
              "4                                                0.0       ...           53.0   \n",
              "5                                                0.0       ...           50.0   \n",
              "6                                                0.0       ...           50.0   \n",
              "7                                                6.0       ...           62.0   \n",
              "8                                                5.0       ...           62.0   \n",
              "9                                                6.0       ...           62.0   \n",
              "\n",
              "   histogram_max  histogram_number_of_peaks  histogram_number_of_zeroes  \\\n",
              "0          126.0                        2.0                         0.0   \n",
              "1          198.0                        6.0                         1.0   \n",
              "2          198.0                        5.0                         1.0   \n",
              "3          170.0                       11.0                         0.0   \n",
              "4          170.0                        9.0                         0.0   \n",
              "5          200.0                        5.0                         3.0   \n",
              "6          200.0                        6.0                         3.0   \n",
              "7          130.0                        0.0                         0.0   \n",
              "8          130.0                        0.0                         0.0   \n",
              "9          130.0                        1.0                         0.0   \n",
              "\n",
              "   histogram_mode  histogram_mean  histogram_median  histogram_variance  \\\n",
              "0           120.0           137.0             121.0                73.0   \n",
              "1           141.0           136.0             140.0                12.0   \n",
              "2           141.0           135.0             138.0                13.0   \n",
              "3           137.0           134.0             137.0                13.0   \n",
              "4           137.0           136.0             138.0                11.0   \n",
              "5            76.0           107.0             107.0               170.0   \n",
              "6            71.0           107.0             106.0               215.0   \n",
              "7           122.0           122.0             123.0                 3.0   \n",
              "8           122.0           122.0             123.0                 3.0   \n",
              "9           122.0           122.0             123.0                 1.0   \n",
              "\n",
              "   histogram_tendency  fetal_health  \n",
              "0                 1.0           2.0  \n",
              "1                 0.0           1.0  \n",
              "2                 0.0           1.0  \n",
              "3                 1.0           1.0  \n",
              "4                 1.0           1.0  \n",
              "5                 0.0           3.0  \n",
              "6                 0.0           3.0  \n",
              "7                 1.0           3.0  \n",
              "8                 1.0           3.0  \n",
              "9                 1.0           3.0  \n",
              "\n",
              "[10 rows x 22 columns]"
            ],
            "text/html": [
              "\n",
              "  <div id=\"df-1fe8724b-7d0d-4f85-9a75-31f9d906b04f\">\n",
              "    <div class=\"colab-df-container\">\n",
              "      <div>\n",
              "<style scoped>\n",
              "    .dataframe tbody tr th:only-of-type {\n",
              "        vertical-align: middle;\n",
              "    }\n",
              "\n",
              "    .dataframe tbody tr th {\n",
              "        vertical-align: top;\n",
              "    }\n",
              "\n",
              "    .dataframe thead th {\n",
              "        text-align: right;\n",
              "    }\n",
              "</style>\n",
              "<table border=\"1\" class=\"dataframe\">\n",
              "  <thead>\n",
              "    <tr style=\"text-align: right;\">\n",
              "      <th></th>\n",
              "      <th>baseline value</th>\n",
              "      <th>accelerations</th>\n",
              "      <th>fetal_movement</th>\n",
              "      <th>uterine_contractions</th>\n",
              "      <th>light_decelerations</th>\n",
              "      <th>severe_decelerations</th>\n",
              "      <th>prolongued_decelerations</th>\n",
              "      <th>abnormal_short_term_variability</th>\n",
              "      <th>mean_value_of_short_term_variability</th>\n",
              "      <th>percentage_of_time_with_abnormal_long_term_variability</th>\n",
              "      <th>...</th>\n",
              "      <th>histogram_min</th>\n",
              "      <th>histogram_max</th>\n",
              "      <th>histogram_number_of_peaks</th>\n",
              "      <th>histogram_number_of_zeroes</th>\n",
              "      <th>histogram_mode</th>\n",
              "      <th>histogram_mean</th>\n",
              "      <th>histogram_median</th>\n",
              "      <th>histogram_variance</th>\n",
              "      <th>histogram_tendency</th>\n",
              "      <th>fetal_health</th>\n",
              "    </tr>\n",
              "  </thead>\n",
              "  <tbody>\n",
              "    <tr>\n",
              "      <th>0</th>\n",
              "      <td>120.0</td>\n",
              "      <td>0.000</td>\n",
              "      <td>0.0</td>\n",
              "      <td>0.000</td>\n",
              "      <td>0.000</td>\n",
              "      <td>0.0</td>\n",
              "      <td>0.000</td>\n",
              "      <td>73.0</td>\n",
              "      <td>0.5</td>\n",
              "      <td>43.0</td>\n",
              "      <td>...</td>\n",
              "      <td>62.0</td>\n",
              "      <td>126.0</td>\n",
              "      <td>2.0</td>\n",
              "      <td>0.0</td>\n",
              "      <td>120.0</td>\n",
              "      <td>137.0</td>\n",
              "      <td>121.0</td>\n",
              "      <td>73.0</td>\n",
              "      <td>1.0</td>\n",
              "      <td>2.0</td>\n",
              "    </tr>\n",
              "    <tr>\n",
              "      <th>1</th>\n",
              "      <td>132.0</td>\n",
              "      <td>0.006</td>\n",
              "      <td>0.0</td>\n",
              "      <td>0.006</td>\n",
              "      <td>0.003</td>\n",
              "      <td>0.0</td>\n",
              "      <td>0.000</td>\n",
              "      <td>17.0</td>\n",
              "      <td>2.1</td>\n",
              "      <td>0.0</td>\n",
              "      <td>...</td>\n",
              "      <td>68.0</td>\n",
              "      <td>198.0</td>\n",
              "      <td>6.0</td>\n",
              "      <td>1.0</td>\n",
              "      <td>141.0</td>\n",
              "      <td>136.0</td>\n",
              "      <td>140.0</td>\n",
              "      <td>12.0</td>\n",
              "      <td>0.0</td>\n",
              "      <td>1.0</td>\n",
              "    </tr>\n",
              "    <tr>\n",
              "      <th>2</th>\n",
              "      <td>133.0</td>\n",
              "      <td>0.003</td>\n",
              "      <td>0.0</td>\n",
              "      <td>0.008</td>\n",
              "      <td>0.003</td>\n",
              "      <td>0.0</td>\n",
              "      <td>0.000</td>\n",
              "      <td>16.0</td>\n",
              "      <td>2.1</td>\n",
              "      <td>0.0</td>\n",
              "      <td>...</td>\n",
              "      <td>68.0</td>\n",
              "      <td>198.0</td>\n",
              "      <td>5.0</td>\n",
              "      <td>1.0</td>\n",
              "      <td>141.0</td>\n",
              "      <td>135.0</td>\n",
              "      <td>138.0</td>\n",
              "      <td>13.0</td>\n",
              "      <td>0.0</td>\n",
              "      <td>1.0</td>\n",
              "    </tr>\n",
              "    <tr>\n",
              "      <th>3</th>\n",
              "      <td>134.0</td>\n",
              "      <td>0.003</td>\n",
              "      <td>0.0</td>\n",
              "      <td>0.008</td>\n",
              "      <td>0.003</td>\n",
              "      <td>0.0</td>\n",
              "      <td>0.000</td>\n",
              "      <td>16.0</td>\n",
              "      <td>2.4</td>\n",
              "      <td>0.0</td>\n",
              "      <td>...</td>\n",
              "      <td>53.0</td>\n",
              "      <td>170.0</td>\n",
              "      <td>11.0</td>\n",
              "      <td>0.0</td>\n",
              "      <td>137.0</td>\n",
              "      <td>134.0</td>\n",
              "      <td>137.0</td>\n",
              "      <td>13.0</td>\n",
              "      <td>1.0</td>\n",
              "      <td>1.0</td>\n",
              "    </tr>\n",
              "    <tr>\n",
              "      <th>4</th>\n",
              "      <td>132.0</td>\n",
              "      <td>0.007</td>\n",
              "      <td>0.0</td>\n",
              "      <td>0.008</td>\n",
              "      <td>0.000</td>\n",
              "      <td>0.0</td>\n",
              "      <td>0.000</td>\n",
              "      <td>16.0</td>\n",
              "      <td>2.4</td>\n",
              "      <td>0.0</td>\n",
              "      <td>...</td>\n",
              "      <td>53.0</td>\n",
              "      <td>170.0</td>\n",
              "      <td>9.0</td>\n",
              "      <td>0.0</td>\n",
              "      <td>137.0</td>\n",
              "      <td>136.0</td>\n",
              "      <td>138.0</td>\n",
              "      <td>11.0</td>\n",
              "      <td>1.0</td>\n",
              "      <td>1.0</td>\n",
              "    </tr>\n",
              "    <tr>\n",
              "      <th>5</th>\n",
              "      <td>134.0</td>\n",
              "      <td>0.001</td>\n",
              "      <td>0.0</td>\n",
              "      <td>0.010</td>\n",
              "      <td>0.009</td>\n",
              "      <td>0.0</td>\n",
              "      <td>0.002</td>\n",
              "      <td>26.0</td>\n",
              "      <td>5.9</td>\n",
              "      <td>0.0</td>\n",
              "      <td>...</td>\n",
              "      <td>50.0</td>\n",
              "      <td>200.0</td>\n",
              "      <td>5.0</td>\n",
              "      <td>3.0</td>\n",
              "      <td>76.0</td>\n",
              "      <td>107.0</td>\n",
              "      <td>107.0</td>\n",
              "      <td>170.0</td>\n",
              "      <td>0.0</td>\n",
              "      <td>3.0</td>\n",
              "    </tr>\n",
              "    <tr>\n",
              "      <th>6</th>\n",
              "      <td>134.0</td>\n",
              "      <td>0.001</td>\n",
              "      <td>0.0</td>\n",
              "      <td>0.013</td>\n",
              "      <td>0.008</td>\n",
              "      <td>0.0</td>\n",
              "      <td>0.003</td>\n",
              "      <td>29.0</td>\n",
              "      <td>6.3</td>\n",
              "      <td>0.0</td>\n",
              "      <td>...</td>\n",
              "      <td>50.0</td>\n",
              "      <td>200.0</td>\n",
              "      <td>6.0</td>\n",
              "      <td>3.0</td>\n",
              "      <td>71.0</td>\n",
              "      <td>107.0</td>\n",
              "      <td>106.0</td>\n",
              "      <td>215.0</td>\n",
              "      <td>0.0</td>\n",
              "      <td>3.0</td>\n",
              "    </tr>\n",
              "    <tr>\n",
              "      <th>7</th>\n",
              "      <td>122.0</td>\n",
              "      <td>0.000</td>\n",
              "      <td>0.0</td>\n",
              "      <td>0.000</td>\n",
              "      <td>0.000</td>\n",
              "      <td>0.0</td>\n",
              "      <td>0.000</td>\n",
              "      <td>83.0</td>\n",
              "      <td>0.5</td>\n",
              "      <td>6.0</td>\n",
              "      <td>...</td>\n",
              "      <td>62.0</td>\n",
              "      <td>130.0</td>\n",
              "      <td>0.0</td>\n",
              "      <td>0.0</td>\n",
              "      <td>122.0</td>\n",
              "      <td>122.0</td>\n",
              "      <td>123.0</td>\n",
              "      <td>3.0</td>\n",
              "      <td>1.0</td>\n",
              "      <td>3.0</td>\n",
              "    </tr>\n",
              "    <tr>\n",
              "      <th>8</th>\n",
              "      <td>122.0</td>\n",
              "      <td>0.000</td>\n",
              "      <td>0.0</td>\n",
              "      <td>0.002</td>\n",
              "      <td>0.000</td>\n",
              "      <td>0.0</td>\n",
              "      <td>0.000</td>\n",
              "      <td>84.0</td>\n",
              "      <td>0.5</td>\n",
              "      <td>5.0</td>\n",
              "      <td>...</td>\n",
              "      <td>62.0</td>\n",
              "      <td>130.0</td>\n",
              "      <td>0.0</td>\n",
              "      <td>0.0</td>\n",
              "      <td>122.0</td>\n",
              "      <td>122.0</td>\n",
              "      <td>123.0</td>\n",
              "      <td>3.0</td>\n",
              "      <td>1.0</td>\n",
              "      <td>3.0</td>\n",
              "    </tr>\n",
              "    <tr>\n",
              "      <th>9</th>\n",
              "      <td>122.0</td>\n",
              "      <td>0.000</td>\n",
              "      <td>0.0</td>\n",
              "      <td>0.003</td>\n",
              "      <td>0.000</td>\n",
              "      <td>0.0</td>\n",
              "      <td>0.000</td>\n",
              "      <td>86.0</td>\n",
              "      <td>0.3</td>\n",
              "      <td>6.0</td>\n",
              "      <td>...</td>\n",
              "      <td>62.0</td>\n",
              "      <td>130.0</td>\n",
              "      <td>1.0</td>\n",
              "      <td>0.0</td>\n",
              "      <td>122.0</td>\n",
              "      <td>122.0</td>\n",
              "      <td>123.0</td>\n",
              "      <td>1.0</td>\n",
              "      <td>1.0</td>\n",
              "      <td>3.0</td>\n",
              "    </tr>\n",
              "  </tbody>\n",
              "</table>\n",
              "<p>10 rows × 22 columns</p>\n",
              "</div>\n",
              "      <button class=\"colab-df-convert\" onclick=\"convertToInteractive('df-1fe8724b-7d0d-4f85-9a75-31f9d906b04f')\"\n",
              "              title=\"Convert this dataframe to an interactive table.\"\n",
              "              style=\"display:none;\">\n",
              "        \n",
              "  <svg xmlns=\"http://www.w3.org/2000/svg\" height=\"24px\"viewBox=\"0 0 24 24\"\n",
              "       width=\"24px\">\n",
              "    <path d=\"M0 0h24v24H0V0z\" fill=\"none\"/>\n",
              "    <path d=\"M18.56 5.44l.94 2.06.94-2.06 2.06-.94-2.06-.94-.94-2.06-.94 2.06-2.06.94zm-11 1L8.5 8.5l.94-2.06 2.06-.94-2.06-.94L8.5 2.5l-.94 2.06-2.06.94zm10 10l.94 2.06.94-2.06 2.06-.94-2.06-.94-.94-2.06-.94 2.06-2.06.94z\"/><path d=\"M17.41 7.96l-1.37-1.37c-.4-.4-.92-.59-1.43-.59-.52 0-1.04.2-1.43.59L10.3 9.45l-7.72 7.72c-.78.78-.78 2.05 0 2.83L4 21.41c.39.39.9.59 1.41.59.51 0 1.02-.2 1.41-.59l7.78-7.78 2.81-2.81c.8-.78.8-2.07 0-2.86zM5.41 20L4 18.59l7.72-7.72 1.47 1.35L5.41 20z\"/>\n",
              "  </svg>\n",
              "      </button>\n",
              "      \n",
              "  <style>\n",
              "    .colab-df-container {\n",
              "      display:flex;\n",
              "      flex-wrap:wrap;\n",
              "      gap: 12px;\n",
              "    }\n",
              "\n",
              "    .colab-df-convert {\n",
              "      background-color: #E8F0FE;\n",
              "      border: none;\n",
              "      border-radius: 50%;\n",
              "      cursor: pointer;\n",
              "      display: none;\n",
              "      fill: #1967D2;\n",
              "      height: 32px;\n",
              "      padding: 0 0 0 0;\n",
              "      width: 32px;\n",
              "    }\n",
              "\n",
              "    .colab-df-convert:hover {\n",
              "      background-color: #E2EBFA;\n",
              "      box-shadow: 0px 1px 2px rgba(60, 64, 67, 0.3), 0px 1px 3px 1px rgba(60, 64, 67, 0.15);\n",
              "      fill: #174EA6;\n",
              "    }\n",
              "\n",
              "    [theme=dark] .colab-df-convert {\n",
              "      background-color: #3B4455;\n",
              "      fill: #D2E3FC;\n",
              "    }\n",
              "\n",
              "    [theme=dark] .colab-df-convert:hover {\n",
              "      background-color: #434B5C;\n",
              "      box-shadow: 0px 1px 3px 1px rgba(0, 0, 0, 0.15);\n",
              "      filter: drop-shadow(0px 1px 2px rgba(0, 0, 0, 0.3));\n",
              "      fill: #FFFFFF;\n",
              "    }\n",
              "  </style>\n",
              "\n",
              "      <script>\n",
              "        const buttonEl =\n",
              "          document.querySelector('#df-1fe8724b-7d0d-4f85-9a75-31f9d906b04f button.colab-df-convert');\n",
              "        buttonEl.style.display =\n",
              "          google.colab.kernel.accessAllowed ? 'block' : 'none';\n",
              "\n",
              "        async function convertToInteractive(key) {\n",
              "          const element = document.querySelector('#df-1fe8724b-7d0d-4f85-9a75-31f9d906b04f');\n",
              "          const dataTable =\n",
              "            await google.colab.kernel.invokeFunction('convertToInteractive',\n",
              "                                                     [key], {});\n",
              "          if (!dataTable) return;\n",
              "\n",
              "          const docLinkHtml = 'Like what you see? Visit the ' +\n",
              "            '<a target=\"_blank\" href=https://colab.research.google.com/notebooks/data_table.ipynb>data table notebook</a>'\n",
              "            + ' to learn more about interactive tables.';\n",
              "          element.innerHTML = '';\n",
              "          dataTable['output_type'] = 'display_data';\n",
              "          await google.colab.output.renderOutput(dataTable, element);\n",
              "          const docLink = document.createElement('div');\n",
              "          docLink.innerHTML = docLinkHtml;\n",
              "          element.appendChild(docLink);\n",
              "        }\n",
              "      </script>\n",
              "    </div>\n",
              "  </div>\n",
              "  "
            ]
          },
          "metadata": {},
          "execution_count": 41
        }
      ]
    },
    {
      "cell_type": "markdown",
      "source": [
        "Remove columns that have histogram calculations:"
      ],
      "metadata": {
        "id": "9ZlS3CtlOW5l"
      }
    },
    {
      "cell_type": "code",
      "source": [
        "df = df[df.columns.drop(list(df.filter(regex='histogram')))]\n",
        "df = df.dropna()\n",
        "df.head(10)\n"
      ],
      "metadata": {
        "colab": {
          "base_uri": "https://localhost:8080/",
          "height": 444
        },
        "id": "WFR-0zq6MrAz",
        "outputId": "227bc4e5-f19f-4c52-abf6-eddf7583b221"
      },
      "execution_count": null,
      "outputs": [
        {
          "output_type": "execute_result",
          "data": {
            "text/plain": [
              "   baseline value  accelerations  fetal_movement  uterine_contractions  \\\n",
              "0           120.0          0.000             0.0                 0.000   \n",
              "1           132.0          0.006             0.0                 0.006   \n",
              "2           133.0          0.003             0.0                 0.008   \n",
              "3           134.0          0.003             0.0                 0.008   \n",
              "4           132.0          0.007             0.0                 0.008   \n",
              "5           134.0          0.001             0.0                 0.010   \n",
              "6           134.0          0.001             0.0                 0.013   \n",
              "7           122.0          0.000             0.0                 0.000   \n",
              "8           122.0          0.000             0.0                 0.002   \n",
              "9           122.0          0.000             0.0                 0.003   \n",
              "\n",
              "   light_decelerations  severe_decelerations  prolongued_decelerations  \\\n",
              "0                0.000                   0.0                     0.000   \n",
              "1                0.003                   0.0                     0.000   \n",
              "2                0.003                   0.0                     0.000   \n",
              "3                0.003                   0.0                     0.000   \n",
              "4                0.000                   0.0                     0.000   \n",
              "5                0.009                   0.0                     0.002   \n",
              "6                0.008                   0.0                     0.003   \n",
              "7                0.000                   0.0                     0.000   \n",
              "8                0.000                   0.0                     0.000   \n",
              "9                0.000                   0.0                     0.000   \n",
              "\n",
              "   abnormal_short_term_variability  mean_value_of_short_term_variability  \\\n",
              "0                             73.0                                   0.5   \n",
              "1                             17.0                                   2.1   \n",
              "2                             16.0                                   2.1   \n",
              "3                             16.0                                   2.4   \n",
              "4                             16.0                                   2.4   \n",
              "5                             26.0                                   5.9   \n",
              "6                             29.0                                   6.3   \n",
              "7                             83.0                                   0.5   \n",
              "8                             84.0                                   0.5   \n",
              "9                             86.0                                   0.3   \n",
              "\n",
              "   percentage_of_time_with_abnormal_long_term_variability  \\\n",
              "0                                               43.0        \n",
              "1                                                0.0        \n",
              "2                                                0.0        \n",
              "3                                                0.0        \n",
              "4                                                0.0        \n",
              "5                                                0.0        \n",
              "6                                                0.0        \n",
              "7                                                6.0        \n",
              "8                                                5.0        \n",
              "9                                                6.0        \n",
              "\n",
              "   mean_value_of_long_term_variability  fetal_health  \n",
              "0                                  2.4           2.0  \n",
              "1                                 10.4           1.0  \n",
              "2                                 13.4           1.0  \n",
              "3                                 23.0           1.0  \n",
              "4                                 19.9           1.0  \n",
              "5                                  0.0           3.0  \n",
              "6                                  0.0           3.0  \n",
              "7                                 15.6           3.0  \n",
              "8                                 13.6           3.0  \n",
              "9                                 10.6           3.0  "
            ],
            "text/html": [
              "\n",
              "  <div id=\"df-e13049c7-2151-4cff-9854-9df43ccad19d\">\n",
              "    <div class=\"colab-df-container\">\n",
              "      <div>\n",
              "<style scoped>\n",
              "    .dataframe tbody tr th:only-of-type {\n",
              "        vertical-align: middle;\n",
              "    }\n",
              "\n",
              "    .dataframe tbody tr th {\n",
              "        vertical-align: top;\n",
              "    }\n",
              "\n",
              "    .dataframe thead th {\n",
              "        text-align: right;\n",
              "    }\n",
              "</style>\n",
              "<table border=\"1\" class=\"dataframe\">\n",
              "  <thead>\n",
              "    <tr style=\"text-align: right;\">\n",
              "      <th></th>\n",
              "      <th>baseline value</th>\n",
              "      <th>accelerations</th>\n",
              "      <th>fetal_movement</th>\n",
              "      <th>uterine_contractions</th>\n",
              "      <th>light_decelerations</th>\n",
              "      <th>severe_decelerations</th>\n",
              "      <th>prolongued_decelerations</th>\n",
              "      <th>abnormal_short_term_variability</th>\n",
              "      <th>mean_value_of_short_term_variability</th>\n",
              "      <th>percentage_of_time_with_abnormal_long_term_variability</th>\n",
              "      <th>mean_value_of_long_term_variability</th>\n",
              "      <th>fetal_health</th>\n",
              "    </tr>\n",
              "  </thead>\n",
              "  <tbody>\n",
              "    <tr>\n",
              "      <th>0</th>\n",
              "      <td>120.0</td>\n",
              "      <td>0.000</td>\n",
              "      <td>0.0</td>\n",
              "      <td>0.000</td>\n",
              "      <td>0.000</td>\n",
              "      <td>0.0</td>\n",
              "      <td>0.000</td>\n",
              "      <td>73.0</td>\n",
              "      <td>0.5</td>\n",
              "      <td>43.0</td>\n",
              "      <td>2.4</td>\n",
              "      <td>2.0</td>\n",
              "    </tr>\n",
              "    <tr>\n",
              "      <th>1</th>\n",
              "      <td>132.0</td>\n",
              "      <td>0.006</td>\n",
              "      <td>0.0</td>\n",
              "      <td>0.006</td>\n",
              "      <td>0.003</td>\n",
              "      <td>0.0</td>\n",
              "      <td>0.000</td>\n",
              "      <td>17.0</td>\n",
              "      <td>2.1</td>\n",
              "      <td>0.0</td>\n",
              "      <td>10.4</td>\n",
              "      <td>1.0</td>\n",
              "    </tr>\n",
              "    <tr>\n",
              "      <th>2</th>\n",
              "      <td>133.0</td>\n",
              "      <td>0.003</td>\n",
              "      <td>0.0</td>\n",
              "      <td>0.008</td>\n",
              "      <td>0.003</td>\n",
              "      <td>0.0</td>\n",
              "      <td>0.000</td>\n",
              "      <td>16.0</td>\n",
              "      <td>2.1</td>\n",
              "      <td>0.0</td>\n",
              "      <td>13.4</td>\n",
              "      <td>1.0</td>\n",
              "    </tr>\n",
              "    <tr>\n",
              "      <th>3</th>\n",
              "      <td>134.0</td>\n",
              "      <td>0.003</td>\n",
              "      <td>0.0</td>\n",
              "      <td>0.008</td>\n",
              "      <td>0.003</td>\n",
              "      <td>0.0</td>\n",
              "      <td>0.000</td>\n",
              "      <td>16.0</td>\n",
              "      <td>2.4</td>\n",
              "      <td>0.0</td>\n",
              "      <td>23.0</td>\n",
              "      <td>1.0</td>\n",
              "    </tr>\n",
              "    <tr>\n",
              "      <th>4</th>\n",
              "      <td>132.0</td>\n",
              "      <td>0.007</td>\n",
              "      <td>0.0</td>\n",
              "      <td>0.008</td>\n",
              "      <td>0.000</td>\n",
              "      <td>0.0</td>\n",
              "      <td>0.000</td>\n",
              "      <td>16.0</td>\n",
              "      <td>2.4</td>\n",
              "      <td>0.0</td>\n",
              "      <td>19.9</td>\n",
              "      <td>1.0</td>\n",
              "    </tr>\n",
              "    <tr>\n",
              "      <th>5</th>\n",
              "      <td>134.0</td>\n",
              "      <td>0.001</td>\n",
              "      <td>0.0</td>\n",
              "      <td>0.010</td>\n",
              "      <td>0.009</td>\n",
              "      <td>0.0</td>\n",
              "      <td>0.002</td>\n",
              "      <td>26.0</td>\n",
              "      <td>5.9</td>\n",
              "      <td>0.0</td>\n",
              "      <td>0.0</td>\n",
              "      <td>3.0</td>\n",
              "    </tr>\n",
              "    <tr>\n",
              "      <th>6</th>\n",
              "      <td>134.0</td>\n",
              "      <td>0.001</td>\n",
              "      <td>0.0</td>\n",
              "      <td>0.013</td>\n",
              "      <td>0.008</td>\n",
              "      <td>0.0</td>\n",
              "      <td>0.003</td>\n",
              "      <td>29.0</td>\n",
              "      <td>6.3</td>\n",
              "      <td>0.0</td>\n",
              "      <td>0.0</td>\n",
              "      <td>3.0</td>\n",
              "    </tr>\n",
              "    <tr>\n",
              "      <th>7</th>\n",
              "      <td>122.0</td>\n",
              "      <td>0.000</td>\n",
              "      <td>0.0</td>\n",
              "      <td>0.000</td>\n",
              "      <td>0.000</td>\n",
              "      <td>0.0</td>\n",
              "      <td>0.000</td>\n",
              "      <td>83.0</td>\n",
              "      <td>0.5</td>\n",
              "      <td>6.0</td>\n",
              "      <td>15.6</td>\n",
              "      <td>3.0</td>\n",
              "    </tr>\n",
              "    <tr>\n",
              "      <th>8</th>\n",
              "      <td>122.0</td>\n",
              "      <td>0.000</td>\n",
              "      <td>0.0</td>\n",
              "      <td>0.002</td>\n",
              "      <td>0.000</td>\n",
              "      <td>0.0</td>\n",
              "      <td>0.000</td>\n",
              "      <td>84.0</td>\n",
              "      <td>0.5</td>\n",
              "      <td>5.0</td>\n",
              "      <td>13.6</td>\n",
              "      <td>3.0</td>\n",
              "    </tr>\n",
              "    <tr>\n",
              "      <th>9</th>\n",
              "      <td>122.0</td>\n",
              "      <td>0.000</td>\n",
              "      <td>0.0</td>\n",
              "      <td>0.003</td>\n",
              "      <td>0.000</td>\n",
              "      <td>0.0</td>\n",
              "      <td>0.000</td>\n",
              "      <td>86.0</td>\n",
              "      <td>0.3</td>\n",
              "      <td>6.0</td>\n",
              "      <td>10.6</td>\n",
              "      <td>3.0</td>\n",
              "    </tr>\n",
              "  </tbody>\n",
              "</table>\n",
              "</div>\n",
              "      <button class=\"colab-df-convert\" onclick=\"convertToInteractive('df-e13049c7-2151-4cff-9854-9df43ccad19d')\"\n",
              "              title=\"Convert this dataframe to an interactive table.\"\n",
              "              style=\"display:none;\">\n",
              "        \n",
              "  <svg xmlns=\"http://www.w3.org/2000/svg\" height=\"24px\"viewBox=\"0 0 24 24\"\n",
              "       width=\"24px\">\n",
              "    <path d=\"M0 0h24v24H0V0z\" fill=\"none\"/>\n",
              "    <path d=\"M18.56 5.44l.94 2.06.94-2.06 2.06-.94-2.06-.94-.94-2.06-.94 2.06-2.06.94zm-11 1L8.5 8.5l.94-2.06 2.06-.94-2.06-.94L8.5 2.5l-.94 2.06-2.06.94zm10 10l.94 2.06.94-2.06 2.06-.94-2.06-.94-.94-2.06-.94 2.06-2.06.94z\"/><path d=\"M17.41 7.96l-1.37-1.37c-.4-.4-.92-.59-1.43-.59-.52 0-1.04.2-1.43.59L10.3 9.45l-7.72 7.72c-.78.78-.78 2.05 0 2.83L4 21.41c.39.39.9.59 1.41.59.51 0 1.02-.2 1.41-.59l7.78-7.78 2.81-2.81c.8-.78.8-2.07 0-2.86zM5.41 20L4 18.59l7.72-7.72 1.47 1.35L5.41 20z\"/>\n",
              "  </svg>\n",
              "      </button>\n",
              "      \n",
              "  <style>\n",
              "    .colab-df-container {\n",
              "      display:flex;\n",
              "      flex-wrap:wrap;\n",
              "      gap: 12px;\n",
              "    }\n",
              "\n",
              "    .colab-df-convert {\n",
              "      background-color: #E8F0FE;\n",
              "      border: none;\n",
              "      border-radius: 50%;\n",
              "      cursor: pointer;\n",
              "      display: none;\n",
              "      fill: #1967D2;\n",
              "      height: 32px;\n",
              "      padding: 0 0 0 0;\n",
              "      width: 32px;\n",
              "    }\n",
              "\n",
              "    .colab-df-convert:hover {\n",
              "      background-color: #E2EBFA;\n",
              "      box-shadow: 0px 1px 2px rgba(60, 64, 67, 0.3), 0px 1px 3px 1px rgba(60, 64, 67, 0.15);\n",
              "      fill: #174EA6;\n",
              "    }\n",
              "\n",
              "    [theme=dark] .colab-df-convert {\n",
              "      background-color: #3B4455;\n",
              "      fill: #D2E3FC;\n",
              "    }\n",
              "\n",
              "    [theme=dark] .colab-df-convert:hover {\n",
              "      background-color: #434B5C;\n",
              "      box-shadow: 0px 1px 3px 1px rgba(0, 0, 0, 0.15);\n",
              "      filter: drop-shadow(0px 1px 2px rgba(0, 0, 0, 0.3));\n",
              "      fill: #FFFFFF;\n",
              "    }\n",
              "  </style>\n",
              "\n",
              "      <script>\n",
              "        const buttonEl =\n",
              "          document.querySelector('#df-e13049c7-2151-4cff-9854-9df43ccad19d button.colab-df-convert');\n",
              "        buttonEl.style.display =\n",
              "          google.colab.kernel.accessAllowed ? 'block' : 'none';\n",
              "\n",
              "        async function convertToInteractive(key) {\n",
              "          const element = document.querySelector('#df-e13049c7-2151-4cff-9854-9df43ccad19d');\n",
              "          const dataTable =\n",
              "            await google.colab.kernel.invokeFunction('convertToInteractive',\n",
              "                                                     [key], {});\n",
              "          if (!dataTable) return;\n",
              "\n",
              "          const docLinkHtml = 'Like what you see? Visit the ' +\n",
              "            '<a target=\"_blank\" href=https://colab.research.google.com/notebooks/data_table.ipynb>data table notebook</a>'\n",
              "            + ' to learn more about interactive tables.';\n",
              "          element.innerHTML = '';\n",
              "          dataTable['output_type'] = 'display_data';\n",
              "          await google.colab.output.renderOutput(dataTable, element);\n",
              "          const docLink = document.createElement('div');\n",
              "          docLink.innerHTML = docLinkHtml;\n",
              "          element.appendChild(docLink);\n",
              "        }\n",
              "      </script>\n",
              "    </div>\n",
              "  </div>\n",
              "  "
            ]
          },
          "metadata": {},
          "execution_count": 42
        }
      ]
    },
    {
      "cell_type": "markdown",
      "source": [
        "There are no columns that have null values so there is no data to remove from the dataset"
      ],
      "metadata": {
        "id": "GpFlQ-DMOdsf"
      }
    },
    {
      "cell_type": "code",
      "source": [
        "df.isna().sum()"
      ],
      "metadata": {
        "colab": {
          "base_uri": "https://localhost:8080/"
        },
        "id": "kfqFU1pNOgvA",
        "outputId": "f2e83437-5abc-441c-b637-91b8be2ef946"
      },
      "execution_count": null,
      "outputs": [
        {
          "output_type": "execute_result",
          "data": {
            "text/plain": [
              "baseline value                                            0\n",
              "accelerations                                             0\n",
              "fetal_movement                                            0\n",
              "uterine_contractions                                      0\n",
              "light_decelerations                                       0\n",
              "severe_decelerations                                      0\n",
              "prolongued_decelerations                                  0\n",
              "abnormal_short_term_variability                           0\n",
              "mean_value_of_short_term_variability                      0\n",
              "percentage_of_time_with_abnormal_long_term_variability    0\n",
              "mean_value_of_long_term_variability                       0\n",
              "fetal_health                                              0\n",
              "dtype: int64"
            ]
          },
          "metadata": {},
          "execution_count": 43
        }
      ]
    },
    {
      "cell_type": "markdown",
      "source": [
        "Split data into training and testing datasets:"
      ],
      "metadata": {
        "id": "hdv1Hbc6URbc"
      }
    },
    {
      "cell_type": "code",
      "source": [
        "X = df.drop(columns=['fetal_health'])\n",
        "Y = df['fetal_health']\n",
        "\n",
        "X_train, X_test, Y_train, Y_test = train_test_split(X, Y)\n"
      ],
      "metadata": {
        "id": "Kp9xWiZBToy8"
      },
      "execution_count": null,
      "outputs": []
    },
    {
      "cell_type": "markdown",
      "metadata": {
        "id": "ecUihTySp0xd"
      },
      "source": [
        "# Proposed Solution\n",
        "\n",
        "\n",
        "\n",
        "The solution to our problem of determining which features are most important in determining a fetus' health and classifying it as healthy or not is using different classification models and then determine which is the most accurate. We plan on training our model by using K Nearest Neighbors and then again with decision tree classifiers to classify between healthy and unhealthy fetuses. Decision trees and K Nearest Neighbors are both effective classifiers for our problem, and will allow us to train each of these models to accuaretly predict a fetus' health. Then we plan on using nested cross validation to determine the best model and the best parameters for that model.\n",
        "\n",
        "\n",
        "\n",
        "\n"
      ]
    },
    {
      "cell_type": "markdown",
      "metadata": {
        "id": "gb_2nJ_jp0xd"
      },
      "source": [
        "# Evaluation Metrics\n",
        "\n",
        "\n",
        "We plan our evaluating our model using the following methods:\n",
        "\n",
        "* The accuracy of the model - test using zero-one loss\n",
        "* Precision - proportion of correct postive instances\n",
        "* Recall - true positive rate, as false negatives can be detrimental to fetal health and treatment plan\n",
        "* F1 score - mean of precision and recall, gives a more balanced measure\n",
        "\n",
        "We believe these metrics will help us evaluate our model in order to determine whether it will be accurate at predicting the fetus' health.\n",
        "\n",
        "In order to combine all these metrics, we have decided to assign them the following weights: 0.3 for accuracy, 0.3 for recall, 0.2 for precision and 0.2 for F1 score. We chose these weights because we wanted accuracy and recall to be weighted more than precision and F1 score, since it is more important for us to increase the accuracy of our predictions and our true positive rate than anything else. Thus, we have decided to assign these with greater weights and have them all sum to 1.\n"
      ]
    },
    {
      "cell_type": "markdown",
      "source": [
        "# Preliminary results\n",
        "\n",
        "###Feature Selection using Random Forest\n",
        "\n",
        "**Features available:**\n",
        "\n",
        "*   `baseline value`: baseline fetal heart rate\n",
        "*   `accelerations`: short term rises in fetal heart rate\n",
        "*   `fetal_movement`: number of fetal movements in pregnant woman\n",
        "*   `uterine_contractions`: contractions of pregnant women\n",
        "*   `light_decelerations`: light decelerations of fetal heart rate\n",
        "*   `severe_decelerations`: severe decelerations of fetal heart rate\n",
        "*   `prolongued_decelerations`: prolongued decelerations of fetal heart rate\n",
        "*   `abnormal_short_term_variability`: number of abnormal short term variability\n",
        "*   `mean_value_of_short_term_variability`: mean number of abnormal short term variability\n",
        "*   `percentage_of_time_with_abnormal_long_term_variability`: percentage of time fetal heart rate has abnormal long term variability\n",
        "*   `mean_value_of_long_term_variability`: mean number of abnormal long term variability\n",
        "\n",
        "\n",
        "Random forests are not influenced by outliers and does not need scaling or transformation of variables. Random forests are also known provide high accuracy and balance the bias-variance trade-off well. This feature selection works well with datasets without high-cardinality features due to it being impurity-based, which aligns well with our dataset. Since random forests have good performance and efficient runtime in training large datasets, we decided to use it to determine the features importances.\n"
      ],
      "metadata": {
        "id": "NHrD9ZHr4nbX"
      }
    },
    {
      "cell_type": "markdown",
      "source": [
        "We fitted a Random Forest Classifier on our training data and determined the feature importances corresponding to each of our features."
      ],
      "metadata": {
        "id": "5F7mP0P-_vNn"
      }
    },
    {
      "cell_type": "code",
      "source": [
        "from sklearn.ensemble import RandomForestClassifier\n",
        "\n",
        "# fits training data and gets feature importance\n",
        "forest = RandomForestClassifier(random_state=0)\n",
        "forest.fit(X_train, Y_train)\n",
        "importances = forest.feature_importances_"
      ],
      "metadata": {
        "id": "oPvVunTh5JHA"
      },
      "execution_count": null,
      "outputs": []
    },
    {
      "cell_type": "markdown",
      "source": [
        "Using the features importances, we generated a bar plot to visualize and compare each of the feature importance to another. Note the feature importances are generated using Mean Feature in Impurity (MDI)."
      ],
      "metadata": {
        "id": "TxeYX8i--3LX"
      }
    },
    {
      "cell_type": "code",
      "source": [
        "feature_names = X.columns\n",
        "forest_importances = pd.Series(importances, index=feature_names)\n",
        "std = np.std([tree.feature_importances_ for tree in forest.estimators_], axis=0)\n",
        "\n",
        "# plots features importances along with its standard deviation\n",
        "fig, ax = plt.subplots()\n",
        "forest_importances.plot.bar(yerr=std, ax=ax)\n",
        "ax.set_title(\"Feature importances using MDI\")\n",
        "ax.set_ylabel(\"Mean decrease in impurity\")\n",
        "fig.show()"
      ],
      "metadata": {
        "colab": {
          "base_uri": "https://localhost:8080/",
          "height": 839
        },
        "id": "gq9s5_xx_dbQ",
        "outputId": "71b1e920-9c4c-4da7-e86f-9bd789d0b48a"
      },
      "execution_count": null,
      "outputs": [
        {
          "output_type": "display_data",
          "data": {
            "text/plain": [
              "<Figure size 640x480 with 1 Axes>"
            ],
            "image/png": "[encoded data removed]"
          },
          "metadata": {}
        }
      ]
    },
    {
      "cell_type": "markdown",
      "source": [
        "The top 3 most importance features are `abnormal_short_term_variability`, `mean_value_of_short_term_variability`, and `percentage_of_time_with_abnormal_long_term_variability`."
      ],
      "metadata": {
        "id": "wM3M-FjuAszD"
      }
    },
    {
      "cell_type": "markdown",
      "source": [
        "### K-Nearest Neighbors\n",
        "\n",
        "After doing feature selection, we used a K-Nearest Neighbors algorithm on our training data to generate preliminary results and test the accuracy of the algorithm on our testing data. We chose k = 20 for this training as it is just a preliminary test and the best value of k will be optimized and tested later."
      ],
      "metadata": {
        "id": "j_b49OYCJ6KM"
      }
    },
    {
      "cell_type": "code",
      "source": [
        "from sklearn.preprocessing import StandardScaler\n",
        "\n",
        "# Creating a dataset with only the top 3 most important features and their fetal health classifications\n",
        "features = df[['abnormal_short_term_variability', 'mean_value_of_short_term_variability', 'percentage_of_time_with_abnormal_long_term_variability', 'fetal_health']]\n",
        "X = features.drop(columns=['fetal_health'])\n",
        "Y = features['fetal_health']\n",
        "# Splitting the data into training and testing sets based off of the most important features\n",
        "X_train, X_test, Y_train, Y_test = train_test_split(X, Y)\n",
        "# Features from the test and training sets are scaled with StandardScaler to ensure they are on the same scale before being passed in\n",
        "scaler = StandardScaler()\n",
        "X_train_scaled = scaler.fit_transform(X_train)\n",
        "X_test_scaled = scaler.transform(X_test)\n",
        "# Create and fit the data on the K Nearest Neighbors Classifier object\n",
        "knn = KNeighborsClassifier(n_neighbors=20)\n",
        "knn.fit(X_train_scaled, Y_train)\n",
        "y_pred = knn.predict(X_test_scaled)"
      ],
      "metadata": {
        "id": "OY7yAcz8KIt-"
      },
      "execution_count": null,
      "outputs": []
    },
    {
      "cell_type": "code",
      "source": [
        "from sklearn.metrics import accuracy_score\n",
        "from sklearn.model_selection import learning_curve, validation_curve\n",
        "\n",
        "# Calculate the accuracy of the model on the test set\n",
        "accuracy = accuracy_score(Y_test, y_pred)\n",
        "print(\"Accuracy:\", accuracy)\n",
        "\n",
        "# Plot learning curve\n",
        "train_sizes, train_scores, test_scores = learning_curve(knn, X_train_scaled, Y_train, cv=5, scoring='accuracy')\n",
        "train_scores_mean = np.mean(train_scores, axis=1)\n",
        "test_scores_mean = np.mean(test_scores, axis=1)\n",
        "\n",
        "plt.figure()\n",
        "plt.title(\"Learning Curve - Mean\")\n",
        "plt.xlabel(\"Training Examples\")\n",
        "plt.ylabel(\"Accuracy\")\n",
        "plt.plot(train_sizes, train_scores_mean, 'o-', color=\"r\", label=\"Training Accuracy\")\n",
        "plt.plot(train_sizes, test_scores_mean, 'o-', color=\"g\", label=\"Testing Accuracy\")\n",
        "plt.legend(loc=\"best\")\n",
        "plt.grid(True)\n",
        "plt.show()\n",
        "\n",
        "\n",
        "# Plot validation curve\n",
        "param_range = [1, 2, 3, 4, 5, 10, 15, 20, 25, 30, 35, 40, 45, 50]\n",
        "train_scores, val_scores = validation_curve(knn, X_train_scaled, Y_train, param_name=\"n_neighbors\", param_range=param_range, cv=5, scoring=\"accuracy\")\n",
        "train_scores_mean = np.mean(train_scores, axis=1)\n",
        "val_scores_mean = np.mean(val_scores, axis=1)\n",
        "\n",
        "plt.figure()\n",
        "plt.title(\"Validation Curve - Mean\")\n",
        "plt.xlabel(\"Number of Neighbors\")\n",
        "plt.ylabel(\"Accuracy\")\n",
        "plt.plot(param_range, train_scores_mean, 'o-', color=\"r\", label=\"Training Accuracy\")\n",
        "plt.plot(param_range, val_scores_mean, 'o-', color=\"g\", label=\"Validation Accuracy\")\n",
        "plt.legend(loc=\"best\")\n",
        "plt.grid(True)\n",
        "plt.show()\n"
      ],
      "metadata": {
        "colab": {
          "base_uri": "https://localhost:8080/",
          "height": 944
        },
        "id": "EefTaVeuRDHt",
        "outputId": "7930fd5b-f931-49d4-d34c-b46fddf00669"
      },
      "execution_count": null,
      "outputs": [
        {
          "output_type": "stream",
          "name": "stdout",
          "text": [
            "Accuracy: 0.8533834586466166\n"
          ]
        },
        {
          "output_type": "display_data",
          "data": {
            "text/plain": [
              "<Figure size 640x480 with 1 Axes>"
            ],
            "image/png": "[encoded data removed]"
          },
          "metadata": {}
        },
        {
          "output_type": "display_data",
          "data": {
            "text/plain": [
              "<Figure size 640x480 with 1 Axes>"
            ],
            "image/png": "[encoded data removed]"
          },
          "metadata": {}
        }
      ]
    },
    {
      "cell_type": "markdown",
      "source": [
        "#Results"
      ],
      "metadata": {
        "id": "gFPM94fr0RTJ"
      }
    },
    {
      "cell_type": "markdown",
      "source": [
        "###Preparing, transforming, and fitting the data"
      ],
      "metadata": {
        "id": "VKWYZjXAI-kW"
      }
    },
    {
      "cell_type": "code",
      "source": [
        "# Define a function to binarize the \"fetal-health\" column into 0's (Healthy) or 1's (Non-Healthy)\n",
        "def binary(num):\n",
        "    if num == 1:\n",
        "        return 0\n",
        "    if num > 1:\n",
        "        return 1\n",
        "    return 1"
      ],
      "metadata": {
        "id": "knnpb-0ozwl1"
      },
      "execution_count": null,
      "outputs": []
    },
    {
      "cell_type": "code",
      "source": [
        "from sklearn.preprocessing import StandardScaler\n",
        "\n",
        "# Creating a dataset with only the top 3 most important features and their fetal health classifications\n",
        "features = df[['abnormal_short_term_variability', 'mean_value_of_short_term_variability', 'percentage_of_time_with_abnormal_long_term_variability', 'fetal_health']]\n",
        "X = features.drop(columns=['fetal_health'])\n",
        "Y = features['fetal_health']\n",
        "Y = Y.apply(binary)\n",
        "# Splitting the data into training and testing sets based off of the most important features\n",
        "X_train, X_test, Y_train, Y_test = train_test_split(X, Y)\n",
        "# Features from the test and training sets are scaled with StandardScaler to ensure they are on the same scale before being passed in\n",
        "scaler = StandardScaler()\n",
        "X_train_scaled = scaler.fit_transform(X_train)\n",
        "X_test_scaled = scaler.transform(X_test)\n",
        "# Create and fit the data on the K Nearest Neighbors Classifier object\n",
        "knn = KNeighborsClassifier(n_neighbors=20)\n",
        "knn.fit(X_train_scaled, Y_train)\n",
        "y_pred = knn.predict(X_test_scaled)"
      ],
      "metadata": {
        "id": "V0CZBe6ozx8v"
      },
      "execution_count": null,
      "outputs": []
    },
    {
      "cell_type": "markdown",
      "source": [
        "### Pipeline Creation and Hyperparameter Selection"
      ],
      "metadata": {
        "id": "Bbp5yyCgJpe4"
      }
    },
    {
      "cell_type": "code",
      "source": [
        "from sklearn.model_selection import GridSearchCV, cross_val_score, train_test_split\n",
        "from sklearn.preprocessing import StandardScaler\n",
        "from sklearn.tree import DecisionTreeClassifier\n",
        "from sklearn.neighbors import KNeighborsClassifier\n",
        "from sklearn.svm import SVC\n",
        "from sklearn.pipeline import Pipeline\n",
        "from sklearn.metrics import recall_score, precision_score, f1_score\n",
        "\n",
        "#pipeline for each alg\n",
        "pipeline_dt = Pipeline([\n",
        "    ('scaler', StandardScaler()),\n",
        "    ('clf', DecisionTreeClassifier())\n",
        "])\n",
        "\n",
        "pipeline_knn = Pipeline([\n",
        "    ('scaler', StandardScaler()),\n",
        "    ('clf', KNeighborsClassifier())\n",
        "])\n",
        "\n",
        "pipeline_svm = Pipeline([\n",
        "    ('scaler', StandardScaler()),\n",
        "    ('clf', SVC())\n",
        "])\n",
        "\n",
        "#param grids\n",
        "param_grid_dt = {\n",
        "    'clf__criterion': ['gini', 'entropy'],  # Splitting criterion\n",
        "    'clf__max_depth': [None, 2, 4, 6, 8, 10, 12],  # Maximum depth of the tree\n",
        "}\n",
        "\n",
        "param_grid_knn = {\n",
        "    'clf__n_neighbors': np.arange(1,26).tolist(),  # Number of neighbors to consider\n",
        "}\n",
        "\n",
        "param_grid_svm = {\n",
        "    'clf__C': [0.01, 0.1, 1, 10, 100],  # Regularization parameter\n",
        "    'clf__gamma': [0.1, 1, 10]  # Kernel coefficient\n",
        "}\n",
        "\n",
        "#inner loop\n",
        "grid_search_dt = GridSearchCV(pipeline_dt, param_grid=param_grid_dt, cv=5, scoring=\"accuracy\")\n",
        "grid_search_knn = GridSearchCV(pipeline_knn, param_grid=param_grid_knn, cv=5, scoring=\"accuracy\")\n",
        "grid_search_svm = GridSearchCV(pipeline_svm, param_grid=param_grid_svm, cv=5, scoring=\"accuracy\")\n",
        "\n",
        "#outer loop\n",
        "nested_scores_dt = cross_val_score(grid_search_dt, X=X_train_scaled, y=Y_train, cv=5) #put verbose =3 back in ??\n",
        "nested_scores_knn = cross_val_score(grid_search_knn, X=X_train_scaled, y=Y_train, cv=5)\n",
        "nested_scores_svm = cross_val_score(grid_search_svm, X=X_train_scaled, y=Y_train, cv=5)\n",
        "\n",
        "\n",
        "\n",
        "#fit models on whole training set, use best hyperparams\n",
        "grid_search_dt.fit(X_train_scaled, Y_train)\n",
        "grid_search_knn.fit(X_train_scaled, Y_train)\n",
        "grid_search_svm.fit(X_train_scaled, Y_train)\n",
        "\n",
        "accuracy_dt = grid_search_dt.score(X_test_scaled, Y_test)\n",
        "accuracy_knn = grid_search_knn.score(X_test_scaled, Y_test)\n",
        "accuracy_svm = grid_search_svm.score(X_test_scaled, Y_test)\n",
        "\n",
        "print(\"The following displays the accuracy for each model:\")\n",
        "print(\"Decision Tree Accuracy:\", accuracy_dt)\n",
        "print(\"K-Nearest Neighbors Accuracy:\", accuracy_knn)\n",
        "print(\"SVM Accuracy:\", accuracy_svm)"
      ],
      "metadata": {
        "id": "wFtG5wTp30-a",
        "colab": {
          "base_uri": "https://localhost:8080/"
        },
        "outputId": "8bff6734-f2f7-449e-d799-171ce6160aad"
      },
      "execution_count": null,
      "outputs": [
        {
          "output_type": "stream",
          "name": "stdout",
          "text": [
            "The following displays the accuracy for each model:\n",
            "Decision Tree Accuracy: 0.8834586466165414\n",
            "K-Nearest Neighbors Accuracy: 0.8759398496240601\n",
            "SVM Accuracy: 0.8890977443609023\n"
          ]
        }
      ]
    },
    {
      "cell_type": "code",
      "source": [
        "#gets best hyperparameters\n",
        "print(\"Best hyperparameters for Decision Tree:\", grid_search_dt.best_params_)\n",
        "print(\"Best hyperparameters for K-Nearest Neighbors:\", grid_search_knn.best_params_)\n",
        "print(\"Best hyperparameters for SVM:\", grid_search_svm.best_params_)"
      ],
      "metadata": {
        "colab": {
          "base_uri": "https://localhost:8080/"
        },
        "id": "Md5DFCaDU2y4",
        "outputId": "27bef774-f418-4a71-9a1b-358a1a2ef5ca"
      },
      "execution_count": null,
      "outputs": [
        {
          "output_type": "stream",
          "name": "stdout",
          "text": [
            "Best hyperparameters for Decision Tree: {'clf__criterion': 'gini', 'clf__max_depth': 6}\n",
            "Best hyperparameters for K-Nearest Neighbors: {'clf__n_neighbors': 13}\n",
            "Best hyperparameters for SVM: {'clf__C': 100, 'clf__gamma': 1}\n"
          ]
        }
      ]
    },
    {
      "cell_type": "markdown",
      "source": [
        "### Measuring Performance with Chosen Evaluation Metrics"
      ],
      "metadata": {
        "id": "rrOZID63Kr53"
      }
    },
    {
      "cell_type": "code",
      "source": [
        "#model predictions on test set\n",
        "predictions_dt = grid_search_dt.predict(X_test_scaled)\n",
        "predictions_knn = grid_search_knn.predict(X_test_scaled)\n",
        "predictions_svm = grid_search_svm.predict(X_test_scaled)\n",
        "\n",
        "#calculate accuracy\n",
        "accuracy_dt = accuracy_score(Y_test, predictions_dt)\n",
        "accuracy_knn = accuracy_score(Y_test, predictions_knn)\n",
        "accuracy_svm = accuracy_score(Y_test, predictions_svm)\n",
        "\n",
        "print(\"Decision Tree Accuracy:\", accuracy_dt)\n",
        "print(\"K-Nearest Neighbors Accuracy:\", accuracy_knn)\n",
        "print(\"SVM Accuracy:\", accuracy_svm)\n",
        "print(\"\")\n",
        "\n",
        "#calculate recall\n",
        "recall_dt = recall_score(Y_test, predictions_dt)\n",
        "recall_knn = recall_score(Y_test, predictions_knn)\n",
        "recall_svm = recall_score(Y_test, predictions_svm)\n",
        "\n",
        "print(\"Decision Tree Recall:\", recall_dt)\n",
        "print(\"K-Nearest Neighbors Recall:\", recall_knn)\n",
        "print(\"SVM Recall:\", recall_svm)\n",
        "print(\"\")\n",
        "\n",
        "#calculate precision\n",
        "precision_dt = precision_score(Y_test, predictions_dt)\n",
        "precision_knn = precision_score(Y_test, predictions_knn)\n",
        "precision_svm = precision_score(Y_test, predictions_svm)\n",
        "\n",
        "print(\"Decision Tree Precision:\", precision_dt)\n",
        "print(\"K-Nearest Neighbors Precision:\", precision_knn)\n",
        "print(\"SVM Precision:\", precision_svm)\n",
        "print(\"\")\n",
        "\n",
        "#calculate F1 score\n",
        "f1_dt = f1_score(Y_test, predictions_dt)\n",
        "f1_knn = f1_score(Y_test, predictions_knn)\n",
        "f1_svm = f1_score(Y_test, predictions_svm)\n",
        "\n",
        "print(\"Decision Tree F1 Score:\", f1_dt)\n",
        "print(\"K-Nearest Neighbors F1 Score:\", f1_knn)\n",
        "print(\"SVM F1 Score:\", f1_svm)"
      ],
      "metadata": {
        "colab": {
          "base_uri": "https://localhost:8080/"
        },
        "id": "b_luTeKTzrCB",
        "outputId": "19d90eb3-bbaf-4b93-dad5-6c6dd66cbc27"
      },
      "execution_count": null,
      "outputs": [
        {
          "output_type": "stream",
          "name": "stdout",
          "text": [
            "Decision Tree Accuracy: 0.8834586466165414\n",
            "K-Nearest Neighbors Accuracy: 0.8759398496240601\n",
            "SVM Accuracy: 0.8890977443609023\n",
            "\n",
            "Decision Tree Recall: 0.6528925619834711\n",
            "K-Nearest Neighbors Recall: 0.6611570247933884\n",
            "SVM Recall: 0.6611570247933884\n",
            "\n",
            "Decision Tree Precision: 0.797979797979798\n",
            "K-Nearest Neighbors Precision: 0.7619047619047619\n",
            "SVM Precision: 0.8163265306122449\n",
            "\n",
            "Decision Tree F1 Score: 0.7181818181818181\n",
            "K-Nearest Neighbors F1 Score: 0.7079646017699116\n",
            "SVM F1 Score: 0.7305936073059361\n"
          ]
        }
      ]
    },
    {
      "cell_type": "code",
      "source": [
        "from sklearn.metrics import classification_report\n",
        "\n",
        "#model predictions\n",
        "predictions_dt = grid_search_dt.predict(X_test_scaled)\n",
        "predictions_knn = grid_search_knn.predict(X_test_scaled)\n",
        "predictions_svm = grid_search_svm.predict(X_test_scaled)\n",
        "\n",
        "#get precision, recall, and F1 score reports\n",
        "report_dt = classification_report(Y_test, predictions_dt, digits=4)\n",
        "report_knn = classification_report(Y_test, predictions_knn, digits=4)\n",
        "report_svm = classification_report(Y_test, predictions_svm, digits=4)\n",
        "\n",
        "#print reports\n",
        "print(\"Decision Tree Classification Report:\")\n",
        "print(report_dt)\n",
        "print()\n",
        "\n",
        "print(\"K-Nearest Neighbors Classification Report:\")\n",
        "print(report_knn)\n",
        "print()\n",
        "\n",
        "print(\"SVM Classification Report:\")\n",
        "print(report_svm)\n",
        "print()"
      ],
      "metadata": {
        "colab": {
          "base_uri": "https://localhost:8080/"
        },
        "id": "DV_Ta6khzG7S",
        "outputId": "b4099e84-50ba-4e15-8f39-8d0dc97154e3"
      },
      "execution_count": null,
      "outputs": [
        {
          "output_type": "stream",
          "name": "stdout",
          "text": [
            "Decision Tree Classification Report:\n",
            "              precision    recall  f1-score   support\n",
            "\n",
            "           0     0.9030    0.9513    0.9265       411\n",
            "           1     0.7980    0.6529    0.7182       121\n",
            "\n",
            "    accuracy                         0.8835       532\n",
            "   macro avg     0.8505    0.8021    0.8224       532\n",
            "weighted avg     0.8791    0.8835    0.8792       532\n",
            "\n",
            "\n",
            "K-Nearest Neighbors Classification Report:\n",
            "              precision    recall  f1-score   support\n",
            "\n",
            "           0     0.9040    0.9392    0.9212       411\n",
            "           1     0.7619    0.6612    0.7080       121\n",
            "\n",
            "    accuracy                         0.8759       532\n",
            "   macro avg     0.8329    0.8002    0.8146       532\n",
            "weighted avg     0.8717    0.8759    0.8727       532\n",
            "\n",
            "\n",
            "SVM Classification Report:\n",
            "              precision    recall  f1-score   support\n",
            "\n",
            "           0     0.9055    0.9562    0.9302       411\n",
            "           1     0.8163    0.6612    0.7306       121\n",
            "\n",
            "    accuracy                         0.8891       532\n",
            "   macro avg     0.8609    0.8087    0.8304       532\n",
            "weighted avg     0.8852    0.8891    0.8848       532\n",
            "\n",
            "\n"
          ]
        }
      ]
    },
    {
      "cell_type": "code",
      "source": [
        "dt_scores = np.array([accuracy_dt,recall_dt,precision_dt,f1_dt])\n",
        "dt_scores"
      ],
      "metadata": {
        "colab": {
          "base_uri": "https://localhost:8080/"
        },
        "id": "d_Y5wi6VzKbi",
        "outputId": "4c793ad0-9136-4b62-d058-8ed1538dbf9c"
      },
      "execution_count": null,
      "outputs": [
        {
          "output_type": "execute_result",
          "data": {
            "text/plain": [
              "array([0.88345865, 0.65289256, 0.7979798 , 0.71818182])"
            ]
          },
          "metadata": {},
          "execution_count": 56
        }
      ]
    },
    {
      "cell_type": "code",
      "source": [
        "knn_scores = np.array([accuracy_knn,recall_knn,precision_knn,f1_knn])\n",
        "knn_scores"
      ],
      "metadata": {
        "colab": {
          "base_uri": "https://localhost:8080/"
        },
        "id": "QoWxPkvmy1Y6",
        "outputId": "15a1ef98-0322-468c-b69a-bef391a39fd6"
      },
      "execution_count": null,
      "outputs": [
        {
          "output_type": "execute_result",
          "data": {
            "text/plain": [
              "array([0.87593985, 0.66115702, 0.76190476, 0.7079646 ])"
            ]
          },
          "metadata": {},
          "execution_count": 57
        }
      ]
    },
    {
      "cell_type": "code",
      "source": [
        "svm_scores = np.array([accuracy_svm,recall_svm,precision_svm,f1_svm])\n",
        "svm_scores"
      ],
      "metadata": {
        "colab": {
          "base_uri": "https://localhost:8080/"
        },
        "id": "nWW-eNCvzPsm",
        "outputId": "f00e048f-8e1a-4385-e443-71160af0fb52"
      },
      "execution_count": null,
      "outputs": [
        {
          "output_type": "execute_result",
          "data": {
            "text/plain": [
              "array([0.88909774, 0.66115702, 0.81632653, 0.73059361])"
            ]
          },
          "metadata": {},
          "execution_count": 58
        }
      ]
    },
    {
      "cell_type": "code",
      "source": [
        "# Weighing them according to the weights we have assigned to each evaluation metric\n",
        "eval_weights = np.array([.3,.3,.2,.2])\n",
        "eval_weights"
      ],
      "metadata": {
        "colab": {
          "base_uri": "https://localhost:8080/"
        },
        "id": "J_orkgjbzP3N",
        "outputId": "21edfc26-7888-40fe-b647-bf927a39ac04"
      },
      "execution_count": null,
      "outputs": [
        {
          "output_type": "execute_result",
          "data": {
            "text/plain": [
              "array([0.3, 0.3, 0.2, 0.2])"
            ]
          },
          "metadata": {},
          "execution_count": 59
        }
      ]
    },
    {
      "cell_type": "code",
      "source": [
        "dt_weighted = dt_scores * eval_weights\n",
        "knn_weighted = knn_scores * eval_weights\n",
        "svm_weighted = svm_scores * eval_weights\n",
        "\n",
        "print(dt_weighted)"
      ],
      "metadata": {
        "colab": {
          "base_uri": "https://localhost:8080/"
        },
        "id": "K3snx8j2zP9O",
        "outputId": "96e21e4b-007f-4f31-8a38-dbbfe9c284cd"
      },
      "execution_count": null,
      "outputs": [
        {
          "output_type": "stream",
          "name": "stdout",
          "text": [
            "[0.26503759 0.19586777 0.15959596 0.14363636]\n"
          ]
        }
      ]
    },
    {
      "cell_type": "code",
      "source": [
        "print(sum(dt_weighted))\n",
        "print(sum(knn_weighted))\n",
        "print(sum(svm_weighted))\n",
        "print(\"The final model with the best performance according to our evaluation metric is the Decision Tree Model\")"
      ],
      "metadata": {
        "colab": {
          "base_uri": "https://localhost:8080/"
        },
        "id": "Aqz7eosezQCu",
        "outputId": "e571508d-249c-4d32-9fc6-14491f8524fe"
      },
      "execution_count": null,
      "outputs": [
        {
          "output_type": "stream",
          "name": "stdout",
          "text": [
            "0.764137685812327\n",
            "0.7551029350601692\n",
            "0.7744604583299234\n",
            "The final model with the best performance according to our evaluation metric is the Decision Tree Model\n"
          ]
        }
      ]
    },
    {
      "cell_type": "markdown",
      "source": [
        "###Training the Final Model and Measuring/Plotting Performance\n",
        "\n",
        "\n"
      ],
      "metadata": {
        "id": "s0NxQGKHMWLn"
      }
    },
    {
      "cell_type": "code",
      "source": [
        "\n",
        "model = DecisionTreeClassifier(criterion = 'gini', max_depth = 6)\n",
        "model.fit(X_train,Y_train)\n",
        "\n",
        "predicted = model.predict(X_test)\n",
        "\n",
        "from sklearn.metrics import accuracy_score\n",
        "accuracy = accuracy_score(predicted, Y_test)\n",
        "print(f'Accuracy: {accuracy}')"
      ],
      "metadata": {
        "colab": {
          "base_uri": "https://localhost:8080/"
        },
        "id": "lqk_3xP-K9BM",
        "outputId": "b69aa4da-be75-4135-8eda-2a0c047429f3"
      },
      "execution_count": 67,
      "outputs": [
        {
          "output_type": "stream",
          "name": "stdout",
          "text": [
            "Accuracy: 0.8834586466165414\n"
          ]
        }
      ]
    },
    {
      "cell_type": "code",
      "source": [
        "# Visualizing the decision tree splits\n",
        "from sklearn import tree\n",
        "fig = plt.figure(figsize = (10, 7))\n",
        "tree.plot_tree(model)"
      ],
      "metadata": {
        "colab": {
          "base_uri": "https://localhost:8080/",
          "height": 1000
        },
        "id": "PaxkVShtsYRU",
        "outputId": "b46475ae-ae43-4b17-b5dd-943fe46c7620"
      },
      "execution_count": 68,
      "outputs": [
        {
          "output_type": "execute_result",
          "data": {
            "text/plain": [
              "[Text(0.4647177419354839, 0.9285714285714286, 'x[0] <= 59.5\\ngini = 0.343\\nsamples = 1594\\nvalue = [1244, 350]'),\n",
              " Text(0.20161290322580644, 0.7857142857142857, 'x[2] <= 60.5\\ngini = 0.125\\nsamples = 1130\\nvalue = [1054, 76]'),\n",
              " Text(0.18548387096774194, 0.6428571428571429, 'x[2] <= 7.5\\ngini = 0.117\\nsamples = 1124\\nvalue = [1054, 70]'),\n",
              " Text(0.10483870967741936, 0.5, 'x[1] <= 5.6\\ngini = 0.077\\nsamples = 898\\nvalue = [862, 36]'),\n",
              " Text(0.06451612903225806, 0.35714285714285715, 'x[1] <= 0.75\\ngini = 0.073\\nsamples = 893\\nvalue = [859, 34]'),\n",
              " Text(0.03225806451612903, 0.21428571428571427, 'x[0] <= 46.0\\ngini = 0.185\\nsamples = 87\\nvalue = [78, 9]'),\n",
              " Text(0.016129032258064516, 0.07142857142857142, 'gini = 0.444\\nsamples = 6\\nvalue = [4, 2]'),\n",
              " Text(0.04838709677419355, 0.07142857142857142, 'gini = 0.158\\nsamples = 81\\nvalue = [74, 7]'),\n",
              " Text(0.0967741935483871, 0.21428571428571427, 'x[1] <= 1.95\\ngini = 0.06\\nsamples = 806\\nvalue = [781, 25]'),\n",
              " Text(0.08064516129032258, 0.07142857142857142, 'gini = 0.033\\nsamples = 596\\nvalue = [586, 10]'),\n",
              " Text(0.11290322580645161, 0.07142857142857142, 'gini = 0.133\\nsamples = 210\\nvalue = [195, 15]'),\n",
              " Text(0.14516129032258066, 0.35714285714285715, 'x[0] <= 22.5\\ngini = 0.48\\nsamples = 5\\nvalue = [3, 2]'),\n",
              " Text(0.12903225806451613, 0.21428571428571427, 'gini = 0.0\\nsamples = 2\\nvalue = [2, 0]'),\n",
              " Text(0.16129032258064516, 0.21428571428571427, 'x[1] <= 5.95\\ngini = 0.444\\nsamples = 3\\nvalue = [1, 2]'),\n",
              " Text(0.14516129032258066, 0.07142857142857142, 'gini = 0.0\\nsamples = 1\\nvalue = [0, 1]'),\n",
              " Text(0.1774193548387097, 0.07142857142857142, 'gini = 0.5\\nsamples = 2\\nvalue = [1, 1]'),\n",
              " Text(0.2661290322580645, 0.5, 'x[0] <= 42.5\\ngini = 0.256\\nsamples = 226\\nvalue = [192, 34]'),\n",
              " Text(0.20967741935483872, 0.35714285714285715, 'x[0] <= 35.5\\ngini = 0.086\\nsamples = 89\\nvalue = [85, 4]'),\n",
              " Text(0.1935483870967742, 0.21428571428571427, 'gini = 0.0\\nsamples = 34\\nvalue = [34, 0]'),\n",
              " Text(0.22580645161290322, 0.21428571428571427, 'x[1] <= 1.35\\ngini = 0.135\\nsamples = 55\\nvalue = [51, 4]'),\n",
              " Text(0.20967741935483872, 0.07142857142857142, 'gini = 0.077\\nsamples = 50\\nvalue = [48, 2]'),\n",
              " Text(0.24193548387096775, 0.07142857142857142, 'gini = 0.48\\nsamples = 5\\nvalue = [3, 2]'),\n",
              " Text(0.3225806451612903, 0.35714285714285715, 'x[1] <= 0.75\\ngini = 0.342\\nsamples = 137\\nvalue = [107, 30]'),\n",
              " Text(0.2903225806451613, 0.21428571428571427, 'x[2] <= 19.5\\ngini = 0.228\\nsamples = 99\\nvalue = [86, 13]'),\n",
              " Text(0.27419354838709675, 0.07142857142857142, 'gini = 0.339\\nsamples = 37\\nvalue = [29, 8]'),\n",
              " Text(0.3064516129032258, 0.07142857142857142, 'gini = 0.148\\nsamples = 62\\nvalue = [57, 5]'),\n",
              " Text(0.3548387096774194, 0.21428571428571427, 'x[1] <= 1.15\\ngini = 0.494\\nsamples = 38\\nvalue = [21, 17]'),\n",
              " Text(0.3387096774193548, 0.07142857142857142, 'gini = 0.478\\nsamples = 33\\nvalue = [20, 13]'),\n",
              " Text(0.3709677419354839, 0.07142857142857142, 'gini = 0.32\\nsamples = 5\\nvalue = [1, 4]'),\n",
              " Text(0.21774193548387097, 0.6428571428571429, 'gini = 0.0\\nsamples = 6\\nvalue = [0, 6]'),\n",
              " Text(0.7278225806451613, 0.7857142857142857, 'x[2] <= 13.5\\ngini = 0.484\\nsamples = 464\\nvalue = [190, 274]'),\n",
              " Text(0.5806451612903226, 0.6428571428571429, 'x[0] <= 75.5\\ngini = 0.472\\nsamples = 264\\nvalue = [163, 101]'),\n",
              " Text(0.5161290322580645, 0.5, 'x[1] <= 1.75\\ngini = 0.458\\nsamples = 251\\nvalue = [162, 89]'),\n",
              " Text(0.45161290322580644, 0.35714285714285715, 'x[2] <= 6.5\\ngini = 0.354\\nsamples = 148\\nvalue = [114, 34]'),\n",
              " Text(0.41935483870967744, 0.21428571428571427, 'x[0] <= 64.5\\ngini = 0.272\\nsamples = 123\\nvalue = [103, 20]'),\n",
              " Text(0.4032258064516129, 0.07142857142857142, 'gini = 0.343\\nsamples = 82\\nvalue = [64, 18]'),\n",
              " Text(0.43548387096774194, 0.07142857142857142, 'gini = 0.093\\nsamples = 41\\nvalue = [39, 2]'),\n",
              " Text(0.4838709677419355, 0.21428571428571427, 'x[0] <= 66.0\\ngini = 0.493\\nsamples = 25\\nvalue = [11, 14]'),\n",
              " Text(0.46774193548387094, 0.07142857142857142, 'gini = 0.291\\nsamples = 17\\nvalue = [3, 14]'),\n",
              " Text(0.5, 0.07142857142857142, 'gini = 0.0\\nsamples = 8\\nvalue = [8, 0]'),\n",
              " Text(0.5806451612903226, 0.35714285714285715, 'x[0] <= 61.5\\ngini = 0.498\\nsamples = 103\\nvalue = [48, 55]'),\n",
              " Text(0.5483870967741935, 0.21428571428571427, 'x[1] <= 2.55\\ngini = 0.386\\nsamples = 23\\nvalue = [6, 17]'),\n",
              " Text(0.532258064516129, 0.07142857142857142, 'gini = 0.5\\nsamples = 10\\nvalue = [5, 5]'),\n",
              " Text(0.5645161290322581, 0.07142857142857142, 'gini = 0.142\\nsamples = 13\\nvalue = [1, 12]'),\n",
              " Text(0.6129032258064516, 0.21428571428571427, 'x[1] <= 3.25\\ngini = 0.499\\nsamples = 80\\nvalue = [42, 38]'),\n",
              " Text(0.5967741935483871, 0.07142857142857142, 'gini = 0.5\\nsamples = 70\\nvalue = [34, 36]'),\n",
              " Text(0.6290322580645161, 0.07142857142857142, 'gini = 0.32\\nsamples = 10\\nvalue = [8, 2]'),\n",
              " Text(0.6451612903225806, 0.5, 'x[1] <= 0.55\\ngini = 0.142\\nsamples = 13\\nvalue = [1, 12]'),\n",
              " Text(0.6290322580645161, 0.35714285714285715, 'gini = 0.0\\nsamples = 11\\nvalue = [0, 11]'),\n",
              " Text(0.6612903225806451, 0.35714285714285715, 'x[2] <= 6.0\\ngini = 0.5\\nsamples = 2\\nvalue = [1, 1]'),\n",
              " Text(0.6451612903225806, 0.21428571428571427, 'gini = 0.0\\nsamples = 1\\nvalue = [0, 1]'),\n",
              " Text(0.6774193548387096, 0.21428571428571427, 'gini = 0.0\\nsamples = 1\\nvalue = [1, 0]'),\n",
              " Text(0.875, 0.6428571428571429, 'x[1] <= 0.55\\ngini = 0.234\\nsamples = 200\\nvalue = [27, 173]'),\n",
              " Text(0.7983870967741935, 0.5, 'x[0] <= 77.5\\ngini = 0.149\\nsamples = 173\\nvalue = [14, 159]'),\n",
              " Text(0.7419354838709677, 0.35714285714285715, 'x[2] <= 62.5\\ngini = 0.086\\nsamples = 134\\nvalue = [6, 128]'),\n",
              " Text(0.7096774193548387, 0.21428571428571427, 'x[2] <= 15.5\\ngini = 0.039\\nsamples = 100\\nvalue = [2, 98]'),\n",
              " Text(0.6935483870967742, 0.07142857142857142, 'gini = 0.375\\nsamples = 4\\nvalue = [1, 3]'),\n",
              " Text(0.7258064516129032, 0.07142857142857142, 'gini = 0.021\\nsamples = 96\\nvalue = [1, 95]'),\n",
              " Text(0.7741935483870968, 0.21428571428571427, 'x[1] <= 0.45\\ngini = 0.208\\nsamples = 34\\nvalue = [4, 30]'),\n",
              " Text(0.7580645161290323, 0.07142857142857142, 'gini = 0.117\\nsamples = 32\\nvalue = [2, 30]'),\n",
              " Text(0.7903225806451613, 0.07142857142857142, 'gini = 0.0\\nsamples = 2\\nvalue = [2, 0]'),\n",
              " Text(0.8548387096774194, 0.35714285714285715, 'x[1] <= 0.45\\ngini = 0.326\\nsamples = 39\\nvalue = [8, 31]'),\n",
              " Text(0.8387096774193549, 0.21428571428571427, 'x[2] <= 36.5\\ngini = 0.272\\nsamples = 37\\nvalue = [6, 31]'),\n",
              " Text(0.8225806451612904, 0.07142857142857142, 'gini = 0.415\\nsamples = 17\\nvalue = [5, 12]'),\n",
              " Text(0.8548387096774194, 0.07142857142857142, 'gini = 0.095\\nsamples = 20\\nvalue = [1, 19]'),\n",
              " Text(0.8709677419354839, 0.21428571428571427, 'gini = 0.0\\nsamples = 2\\nvalue = [2, 0]'),\n",
              " Text(0.9516129032258065, 0.5, 'x[0] <= 74.5\\ngini = 0.499\\nsamples = 27\\nvalue = [13, 14]'),\n",
              " Text(0.9354838709677419, 0.35714285714285715, 'x[2] <= 38.0\\ngini = 0.444\\nsamples = 21\\nvalue = [7, 14]'),\n",
              " Text(0.9032258064516129, 0.21428571428571427, 'x[0] <= 68.5\\ngini = 0.26\\nsamples = 13\\nvalue = [2, 11]'),\n",
              " Text(0.8870967741935484, 0.07142857142857142, 'gini = 0.0\\nsamples = 10\\nvalue = [0, 10]'),\n",
              " Text(0.9193548387096774, 0.07142857142857142, 'gini = 0.444\\nsamples = 3\\nvalue = [2, 1]'),\n",
              " Text(0.967741935483871, 0.21428571428571427, 'x[1] <= 1.3\\ngini = 0.469\\nsamples = 8\\nvalue = [5, 3]'),\n",
              " Text(0.9516129032258065, 0.07142857142857142, 'gini = 0.408\\nsamples = 7\\nvalue = [5, 2]'),\n",
              " Text(0.9838709677419355, 0.07142857142857142, 'gini = 0.0\\nsamples = 1\\nvalue = [0, 1]'),\n",
              " Text(0.967741935483871, 0.35714285714285715, 'gini = 0.0\\nsamples = 6\\nvalue = [6, 0]')]"
            ]
          },
          "metadata": {},
          "execution_count": 68
        },
        {
          "output_type": "display_data",
          "data": {
            "text/plain": [
              "<Figure size 1000x700 with 1 Axes>"
            ],
            "image/png": "[encoded data removed]"
          },
          "metadata": {}
        }
      ]
    },
    {
      "cell_type": "code",
      "source": [
        "from sklearn.metrics import accuracy_score\n",
        "from sklearn.model_selection import learning_curve, validation_curve\n",
        "\n",
        "# Calculate the accuracy of the model on the test set\n",
        "accuracy = accuracy_score(Y_test, y_pred)\n",
        "print(\"Accuracy:\", accuracy)\n",
        "\n",
        "# Plot learning curve\n",
        "train_sizes, train_scores, test_scores = learning_curve(model, X_train, Y_train, cv=5, scoring='accuracy')\n",
        "train_scores_mean = np.mean(train_scores, axis=1)\n",
        "test_scores_mean = np.mean(test_scores, axis=1)\n",
        "\n",
        "plt.figure()\n",
        "plt.title(\"Learning Curve - Mean\")\n",
        "plt.xlabel(\"Training Examples\")\n",
        "plt.ylabel(\"Accuracy\")\n",
        "plt.plot(train_sizes, train_scores_mean, 'o-', color=\"r\", label=\"Training Accuracy\")\n",
        "plt.plot(train_sizes, test_scores_mean, 'o-', color=\"g\", label=\"Testing Accuracy\")\n",
        "plt.legend(loc=\"best\")\n",
        "plt.grid(True)\n",
        "plt.show()\n",
        "\n",
        "\n",
        "# Plot validation curve\n",
        "param_range = [1, 2, 3, 4, 5, 10, 15, 20, 25, 30, 35, 40, 45, 50]\n",
        "train_scores, val_scores = validation_curve(model, X_train, Y_train, param_name=\"max_depth\", param_range=param_range, cv=5, scoring=\"accuracy\")\n",
        "train_scores_mean = np.mean(train_scores, axis=1)\n",
        "val_scores_mean = np.mean(val_scores, axis=1)\n",
        "\n",
        "plt.figure()\n",
        "plt.title(\"Validation Curve - Mean\")\n",
        "plt.xlabel(\"Maximum Tree Depth\")\n",
        "plt.ylabel(\"Accuracy\")\n",
        "plt.plot(param_range, train_scores_mean, 'o-', color=\"r\", label=\"Training Accuracy\")\n",
        "plt.plot(param_range, val_scores_mean, 'o-', color=\"g\", label=\"Validation Accuracy\")\n",
        "plt.legend(loc=\"best\")\n",
        "plt.grid(True)\n",
        "plt.show()"
      ],
      "metadata": {
        "colab": {
          "base_uri": "https://localhost:8080/",
          "height": 944
        },
        "id": "1rkq9OtIVgYI",
        "outputId": "5d3f94aa-a809-4a58-f290-71e7c297def2"
      },
      "execution_count": 69,
      "outputs": [
        {
          "output_type": "stream",
          "name": "stdout",
          "text": [
            "Accuracy: 0.8740601503759399\n"
          ]
        },
        {
          "output_type": "display_data",
          "data": {
            "text/plain": [
              "<Figure size 640x480 with 1 Axes>"
            ],
            "image/png": "[encoded data removed]"
          },
          "metadata": {}
        },
        {
          "output_type": "display_data",
          "data": {
            "text/plain": [
              "<Figure size 640x480 with 1 Axes>"
            ],
            "image/png": "[encoded data removed]"
          },
          "metadata": {}
        }
      ]
    },
    {
      "cell_type": "markdown",
      "source": [
        "# Discussion\n"
      ],
      "metadata": {
        "id": "25AcU8g3Md3o"
      }
    },
    {
      "cell_type": "markdown",
      "source": [
        "### Interpreting the Result\n",
        "We have found a model that indeed surpasses our benchmark of achieving an 80% accuracy on classifying whether or not a fetus is healthy or not. This was only possible by testing many different combinations of hyperparameters and models, and running them against the data and comparing them. As seen above, each model has a different accuracy, precision, recall, and F1 score, and it was impossible to know how each model would perform without testing each of them in conjunction with each other. In the preliminary results, we only tested one algorithm: K-Nearest Neighbors but we saw in the final model that it was not K-Nearest Neighbors that ended up performing the best but the Decision Tree Model. As each algorithm and model have a different way of segmenting and classifying the data, we couldn't assume that they would all classify the same data points the same way, and so our usage of grid search and cross validation allowed us to optimize the hyperparameters for our model and achieve well over above what we had originally set as an accuracy level for our final model, displaying the importance of running different models tuned to different hyperparameters."
      ],
      "metadata": {
        "id": "rVR7l6yLM78Y"
      }
    },
    {
      "cell_type": "markdown",
      "source": [
        "### Limitations\n",
        "In our dataset, we are given approximately 10 features with around 2000 observations. If given more data that is more representative of the population,\n",
        "we could probably generate a model that could accurately predict fetal health. If given more time, we would explore more classifiers that we could use beyonds\n",
        "the ones we learned in class and challenge ourselves to explore different hyperparameters that could possibily help us improve our accuracy."
      ],
      "metadata": {
        "id": "06QcqhYrVsYX"
      }
    },
    {
      "cell_type": "markdown",
      "metadata": {
        "id": "5ckwrr3Np0xd"
      },
      "source": [
        "### Ethics & Privacy"
      ]
    },
    {
      "cell_type": "markdown",
      "metadata": {
        "id": "6aS2AgIUp0xd"
      },
      "source": [
        "\n",
        "Some ethics and privacy issues we must consider when working on this topic include:\n",
        "- The data is collected with informed consent from the pregnant individuals as well as healthcare providers. We addressed this by checking the source of our data, which was Kaggle, to confirm that the data was obtained ethically.\n",
        "- Confidentiality of the individuals must be maintained. We addressed this by ensuring that all patient identification such as names, addresses, etc. are wiped from the data.\n",
        "- Bias and Fairness must be considered for the collection and use of data, especially related to demographic bias. We can ensure this by studying the collection methods of the data and ensuring that it was not biased towards any one area/race/etc.\n",
        "- Benefit and Risk Assessment: we must consider the potential postive effect on fetal health, but also need to evaluate the risks of things like misclassification. We addressed this by considering things like recall and accuracy in our final model to make sure that our final model minimized the rate of misclassification/false positive.\n",
        "\n",
        "\n"
      ]
    },
    {
      "cell_type": "markdown",
      "source": [
        "### Conclusion\n",
        "We have successfully found a model that has achieved above an 80% accuracy, which was the problem statement for this project. This turned out to be the Decision Tree Classifier, with the hyper parameters: criterion = Gini and the max depth = 6,  which achieved an accuracy of approximately 0.8834. Beyond this project, this model can be trained on other types of health issues such as Alzheimer’s, diabetes, and cancer among many other things and leveraged as a tool that doctors can use to aid them in classifying health issues and addressing them earlier to increase the chances of the patient recovering from them. This project has also opened up the potential for more AI and models to be implemented in the medical field so that not only will the models be exposed and be trained on larger and more datasets than just sample data, but with the introduction of more models in the field, we will be able to use many different models for many different classification problems, and compare them with each other to ensure that we are truly obtaining the best model for the given problemm, thereby maximizing machine learning's contribution and helpfulness for doctors, patients, and society."
      ],
      "metadata": {
        "id": "P4oyTJcPWFst"
      }
    },
    {
      "cell_type": "markdown",
      "metadata": {
        "id": "F4WZje11p0xe"
      },
      "source": [
        "# Footnotes\n",
        "<a name=\"Gregory\"></a>1.[^](#Gregorynote): Gregory, C.W. Elizabeth. (4 Aug 2022). Fetal Mortality: United States, 2020. *CDC*. https://www.cdc.gov/nchs/data/nvsr/nvsr71/nvsr71-04.pdf<br>\n",
        "<a name=\"JR\"></a>2.[^](#JRnote): JR Bale. (2003). Improving Birth Outcomes: Meeting the Challenge in the Developing World. *National Library of Medicine*. https://www.ncbi.nlm.nih.gov/books/NBK222084/<br>\n",
        "\n",
        "<a name=\"Washington State Department of Health\"></a>3.[^](#Washingtonnote): Washington State Department of Health. Fetal and Infant Death Data. *Washington State Department of Health*. https://doh.wa.gov/data-and-statistical-reports/washington-tracking-network-wtn/fetal-and-infant-death-data <br>"
      ]
    },
    {
      "cell_type": "code",
      "source": [],
      "metadata": {
        "id": "Af8LQ9bawLLo"
      },
      "execution_count": null,
      "outputs": []
    }
  ],
  "metadata": {
    "kernelspec": {
      "display_name": "Python 3",
      "language": "python",
      "name": "python3"
    },
    "language_info": {
      "codemirror_mode": {
        "name": "ipython",
        "version": 3
      },
      "file_extension": ".py",
      "mimetype": "text/x-python",
      "name": "python",
      "nbconvert_exporter": "python",
      "pygments_lexer": "ipython3",
      "version": "3.8.8"
    },
    "colab": {
      "provenance": [],
      "toc_visible": true
    }
  },
  "nbformat": 4,
  "nbformat_minor": 0
}
